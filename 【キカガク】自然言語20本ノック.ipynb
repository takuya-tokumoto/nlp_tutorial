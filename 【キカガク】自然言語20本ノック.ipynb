{
  "nbformat": 4,
  "nbformat_minor": 0,
  "metadata": {
    "colab": {
      "name": "【キカガク】自然言語20本ノック.ipynb",
      "provenance": [],
      "collapsed_sections": [],
      "toc_visible": true,
      "authorship_tag": "ABX9TyOnXLDy2AqFFCyGj+pTO81s",
      "include_colab_link": true
    },
    "kernelspec": {
      "name": "python3",
      "display_name": "Python 3"
    },
    "language_info": {
      "name": "python"
    }
  },
  "cells": [
    {
      "cell_type": "markdown",
      "metadata": {
        "id": "view-in-github",
        "colab_type": "text"
      },
      "source": [
        "<a href=\"https://colab.research.google.com/github/takuya-tokumoto/nlp_tutorial/blob/main/%E3%80%90%E3%82%AD%E3%82%AB%E3%82%AC%E3%82%AF%E3%80%91%E8%87%AA%E7%84%B6%E8%A8%80%E8%AA%9E20%E6%9C%AC%E3%83%8E%E3%83%83%E3%82%AF.ipynb\" target=\"_parent\"><img src=\"https://colab.research.google.com/assets/colab-badge.svg\" alt=\"Open In Colab\"/></a>"
      ]
    },
    {
      "cell_type": "markdown",
      "metadata": {
        "id": "1blxSub3556R"
      },
      "source": [
        "# 準備"
      ]
    },
    {
      "cell_type": "code",
      "metadata": {
        "id": "atClmTHxfFZh",
        "colab": {
          "base_uri": "https://localhost:8080/"
        },
        "outputId": "ac18662a-32d4-4584-adad-c82fb7a0bd2f"
      },
      "source": [
        "!apt install aptitude"
      ],
      "execution_count": null,
      "outputs": [
        {
          "output_type": "stream",
          "text": [
            "Reading package lists... Done\n",
            "Building dependency tree       \n",
            "Reading state information... Done\n",
            "The following package was automatically installed and is no longer required:\n",
            "  libnvidia-common-460\n",
            "Use 'apt autoremove' to remove it.\n",
            "The following additional packages will be installed:\n",
            "  aptitude-common libcgi-fast-perl libcgi-pm-perl libclass-accessor-perl\n",
            "  libcwidget3v5 libencode-locale-perl libfcgi-perl libhtml-parser-perl\n",
            "  libhtml-tagset-perl libhttp-date-perl libhttp-message-perl libio-html-perl\n",
            "  libio-string-perl liblwp-mediatypes-perl libparse-debianchangelog-perl\n",
            "  libsigc++-2.0-0v5 libsub-name-perl libtimedate-perl liburi-perl libxapian30\n",
            "Suggested packages:\n",
            "  aptitude-doc-en | aptitude-doc apt-xapian-index debtags tasksel\n",
            "  libcwidget-dev libdata-dump-perl libhtml-template-perl libxml-simple-perl\n",
            "  libwww-perl xapian-tools\n",
            "The following NEW packages will be installed:\n",
            "  aptitude aptitude-common libcgi-fast-perl libcgi-pm-perl\n",
            "  libclass-accessor-perl libcwidget3v5 libencode-locale-perl libfcgi-perl\n",
            "  libhtml-parser-perl libhtml-tagset-perl libhttp-date-perl\n",
            "  libhttp-message-perl libio-html-perl libio-string-perl\n",
            "  liblwp-mediatypes-perl libparse-debianchangelog-perl libsigc++-2.0-0v5\n",
            "  libsub-name-perl libtimedate-perl liburi-perl libxapian30\n",
            "0 upgraded, 21 newly installed, 0 to remove and 34 not upgraded.\n",
            "Need to get 3,877 kB of archives.\n",
            "After this operation, 15.6 MB of additional disk space will be used.\n",
            "Get:1 http://archive.ubuntu.com/ubuntu bionic/main amd64 aptitude-common all 0.8.10-6ubuntu1 [1,014 kB]\n",
            "Get:2 http://archive.ubuntu.com/ubuntu bionic/main amd64 libsigc++-2.0-0v5 amd64 2.10.0-2 [10.9 kB]\n",
            "Get:3 http://archive.ubuntu.com/ubuntu bionic/main amd64 libcwidget3v5 amd64 0.5.17-7 [286 kB]\n",
            "Get:4 http://archive.ubuntu.com/ubuntu bionic-updates/main amd64 libxapian30 amd64 1.4.5-1ubuntu0.1 [631 kB]\n",
            "Get:5 http://archive.ubuntu.com/ubuntu bionic/main amd64 aptitude amd64 0.8.10-6ubuntu1 [1,269 kB]\n",
            "Get:6 http://archive.ubuntu.com/ubuntu bionic/main amd64 libhtml-tagset-perl all 3.20-3 [12.1 kB]\n",
            "Get:7 http://archive.ubuntu.com/ubuntu bionic/main amd64 liburi-perl all 1.73-1 [77.2 kB]\n",
            "Get:8 http://archive.ubuntu.com/ubuntu bionic/main amd64 libhtml-parser-perl amd64 3.72-3build1 [85.9 kB]\n",
            "Get:9 http://archive.ubuntu.com/ubuntu bionic/main amd64 libcgi-pm-perl all 4.38-1 [185 kB]\n",
            "Get:10 http://archive.ubuntu.com/ubuntu bionic/main amd64 libfcgi-perl amd64 0.78-2build1 [32.8 kB]\n",
            "Get:11 http://archive.ubuntu.com/ubuntu bionic/main amd64 libcgi-fast-perl all 1:2.13-1 [9,940 B]\n",
            "Get:12 http://archive.ubuntu.com/ubuntu bionic/main amd64 libsub-name-perl amd64 0.21-1build1 [11.6 kB]\n",
            "Get:13 http://archive.ubuntu.com/ubuntu bionic/main amd64 libclass-accessor-perl all 0.51-1 [21.2 kB]\n",
            "Get:14 http://archive.ubuntu.com/ubuntu bionic/main amd64 libencode-locale-perl all 1.05-1 [12.3 kB]\n",
            "Get:15 http://archive.ubuntu.com/ubuntu bionic/main amd64 libtimedate-perl all 2.3000-2 [37.5 kB]\n",
            "Get:16 http://archive.ubuntu.com/ubuntu bionic/main amd64 libhttp-date-perl all 6.02-1 [10.4 kB]\n",
            "Get:17 http://archive.ubuntu.com/ubuntu bionic/main amd64 libio-html-perl all 1.001-1 [14.9 kB]\n",
            "Get:18 http://archive.ubuntu.com/ubuntu bionic/main amd64 liblwp-mediatypes-perl all 6.02-1 [21.7 kB]\n",
            "Get:19 http://archive.ubuntu.com/ubuntu bionic/main amd64 libhttp-message-perl all 6.14-1 [72.1 kB]\n",
            "Get:20 http://archive.ubuntu.com/ubuntu bionic/main amd64 libio-string-perl all 1.08-3 [11.1 kB]\n",
            "Get:21 http://archive.ubuntu.com/ubuntu bionic/main amd64 libparse-debianchangelog-perl all 1.2.0-12 [49.5 kB]\n",
            "Fetched 3,877 kB in 1s (3,300 kB/s)\n",
            "Selecting previously unselected package aptitude-common.\n",
            "(Reading database ... 160706 files and directories currently installed.)\n",
            "Preparing to unpack .../00-aptitude-common_0.8.10-6ubuntu1_all.deb ...\n",
            "Unpacking aptitude-common (0.8.10-6ubuntu1) ...\n",
            "Selecting previously unselected package libsigc++-2.0-0v5:amd64.\n",
            "Preparing to unpack .../01-libsigc++-2.0-0v5_2.10.0-2_amd64.deb ...\n",
            "Unpacking libsigc++-2.0-0v5:amd64 (2.10.0-2) ...\n",
            "Selecting previously unselected package libcwidget3v5:amd64.\n",
            "Preparing to unpack .../02-libcwidget3v5_0.5.17-7_amd64.deb ...\n",
            "Unpacking libcwidget3v5:amd64 (0.5.17-7) ...\n",
            "Selecting previously unselected package libxapian30:amd64.\n",
            "Preparing to unpack .../03-libxapian30_1.4.5-1ubuntu0.1_amd64.deb ...\n",
            "Unpacking libxapian30:amd64 (1.4.5-1ubuntu0.1) ...\n",
            "Selecting previously unselected package aptitude.\n",
            "Preparing to unpack .../04-aptitude_0.8.10-6ubuntu1_amd64.deb ...\n",
            "Unpacking aptitude (0.8.10-6ubuntu1) ...\n",
            "Selecting previously unselected package libhtml-tagset-perl.\n",
            "Preparing to unpack .../05-libhtml-tagset-perl_3.20-3_all.deb ...\n",
            "Unpacking libhtml-tagset-perl (3.20-3) ...\n",
            "Selecting previously unselected package liburi-perl.\n",
            "Preparing to unpack .../06-liburi-perl_1.73-1_all.deb ...\n",
            "Unpacking liburi-perl (1.73-1) ...\n",
            "Selecting previously unselected package libhtml-parser-perl.\n",
            "Preparing to unpack .../07-libhtml-parser-perl_3.72-3build1_amd64.deb ...\n",
            "Unpacking libhtml-parser-perl (3.72-3build1) ...\n",
            "Selecting previously unselected package libcgi-pm-perl.\n",
            "Preparing to unpack .../08-libcgi-pm-perl_4.38-1_all.deb ...\n",
            "Unpacking libcgi-pm-perl (4.38-1) ...\n",
            "Selecting previously unselected package libfcgi-perl.\n",
            "Preparing to unpack .../09-libfcgi-perl_0.78-2build1_amd64.deb ...\n",
            "Unpacking libfcgi-perl (0.78-2build1) ...\n",
            "Selecting previously unselected package libcgi-fast-perl.\n",
            "Preparing to unpack .../10-libcgi-fast-perl_1%3a2.13-1_all.deb ...\n",
            "Unpacking libcgi-fast-perl (1:2.13-1) ...\n",
            "Selecting previously unselected package libsub-name-perl.\n",
            "Preparing to unpack .../11-libsub-name-perl_0.21-1build1_amd64.deb ...\n",
            "Unpacking libsub-name-perl (0.21-1build1) ...\n",
            "Selecting previously unselected package libclass-accessor-perl.\n",
            "Preparing to unpack .../12-libclass-accessor-perl_0.51-1_all.deb ...\n",
            "Unpacking libclass-accessor-perl (0.51-1) ...\n",
            "Selecting previously unselected package libencode-locale-perl.\n",
            "Preparing to unpack .../13-libencode-locale-perl_1.05-1_all.deb ...\n",
            "Unpacking libencode-locale-perl (1.05-1) ...\n",
            "Selecting previously unselected package libtimedate-perl.\n",
            "Preparing to unpack .../14-libtimedate-perl_2.3000-2_all.deb ...\n",
            "Unpacking libtimedate-perl (2.3000-2) ...\n",
            "Selecting previously unselected package libhttp-date-perl.\n",
            "Preparing to unpack .../15-libhttp-date-perl_6.02-1_all.deb ...\n",
            "Unpacking libhttp-date-perl (6.02-1) ...\n",
            "Selecting previously unselected package libio-html-perl.\n",
            "Preparing to unpack .../16-libio-html-perl_1.001-1_all.deb ...\n",
            "Unpacking libio-html-perl (1.001-1) ...\n",
            "Selecting previously unselected package liblwp-mediatypes-perl.\n",
            "Preparing to unpack .../17-liblwp-mediatypes-perl_6.02-1_all.deb ...\n",
            "Unpacking liblwp-mediatypes-perl (6.02-1) ...\n",
            "Selecting previously unselected package libhttp-message-perl.\n",
            "Preparing to unpack .../18-libhttp-message-perl_6.14-1_all.deb ...\n",
            "Unpacking libhttp-message-perl (6.14-1) ...\n",
            "Selecting previously unselected package libio-string-perl.\n",
            "Preparing to unpack .../19-libio-string-perl_1.08-3_all.deb ...\n",
            "Unpacking libio-string-perl (1.08-3) ...\n",
            "Selecting previously unselected package libparse-debianchangelog-perl.\n",
            "Preparing to unpack .../20-libparse-debianchangelog-perl_1.2.0-12_all.deb ...\n",
            "Unpacking libparse-debianchangelog-perl (1.2.0-12) ...\n",
            "Setting up libhtml-tagset-perl (3.20-3) ...\n",
            "Setting up libxapian30:amd64 (1.4.5-1ubuntu0.1) ...\n",
            "Setting up libencode-locale-perl (1.05-1) ...\n",
            "Setting up libtimedate-perl (2.3000-2) ...\n",
            "Setting up libio-html-perl (1.001-1) ...\n",
            "Setting up aptitude-common (0.8.10-6ubuntu1) ...\n",
            "Setting up liblwp-mediatypes-perl (6.02-1) ...\n",
            "Setting up liburi-perl (1.73-1) ...\n",
            "Setting up libhtml-parser-perl (3.72-3build1) ...\n",
            "Setting up libcgi-pm-perl (4.38-1) ...\n",
            "Setting up libio-string-perl (1.08-3) ...\n",
            "Setting up libsub-name-perl (0.21-1build1) ...\n",
            "Setting up libfcgi-perl (0.78-2build1) ...\n",
            "Setting up libsigc++-2.0-0v5:amd64 (2.10.0-2) ...\n",
            "Setting up libclass-accessor-perl (0.51-1) ...\n",
            "Setting up libhttp-date-perl (6.02-1) ...\n",
            "Setting up libcgi-fast-perl (1:2.13-1) ...\n",
            "Setting up libparse-debianchangelog-perl (1.2.0-12) ...\n",
            "Setting up libhttp-message-perl (6.14-1) ...\n",
            "Setting up libcwidget3v5:amd64 (0.5.17-7) ...\n",
            "Setting up aptitude (0.8.10-6ubuntu1) ...\n",
            "update-alternatives: using /usr/bin/aptitude-curses to provide /usr/bin/aptitude (aptitude) in auto mode\n",
            "Processing triggers for man-db (2.8.3-2ubuntu0.1) ...\n",
            "Processing triggers for libc-bin (2.27-3ubuntu1.2) ...\n",
            "/sbin/ldconfig.real: /usr/local/lib/python3.7/dist-packages/ideep4py/lib/libmkldnn.so.0 is not a symbolic link\n",
            "\n"
          ],
          "name": "stdout"
        }
      ]
    },
    {
      "cell_type": "code",
      "metadata": {
        "id": "6D-E881pgh9w",
        "colab": {
          "base_uri": "https://localhost:8080/"
        },
        "outputId": "886e4fa0-1b88-4aab-9dfb-df65090c5325"
      },
      "source": [
        "!aptitude install mecab libmecab-dev mecab-ipadic-utf8 git make curl xz-utils file -y"
      ],
      "execution_count": null,
      "outputs": [
        {
          "output_type": "stream",
          "text": [
            "git is already installed at the requested version (1:2.17.1-1ubuntu0.8)\n",
            "make is already installed at the requested version (4.1-9.1ubuntu1)\n",
            "curl is already installed at the requested version (7.58.0-2ubuntu3.13)\n",
            "xz-utils is already installed at the requested version (5.2.2-1.3)\n",
            "git is already installed at the requested version (1:2.17.1-1ubuntu0.8)\n",
            "make is already installed at the requested version (4.1-9.1ubuntu1)\n",
            "curl is already installed at the requested version (7.58.0-2ubuntu3.13)\n",
            "xz-utils is already installed at the requested version (5.2.2-1.3)\n",
            "The following NEW packages will be installed:\n",
            "  file libmagic-mgc{a} libmagic1{a} libmecab-dev libmecab2{a} mecab mecab-ipadic{a} mecab-ipadic-utf8 mecab-jumandic{a} mecab-jumandic-utf8{a} mecab-utils{a} \n",
            "The following packages will be REMOVED:\n",
            "  libnvidia-common-460{u} \n",
            "0 packages upgraded, 11 newly installed, 1 to remove and 34 not upgraded.\n",
            "Need to get 29.3 MB of archives. After unpacking 282 MB will be used.\n",
            "Get: 1 http://archive.ubuntu.com/ubuntu bionic-updates/main amd64 libmagic-mgc amd64 1:5.32-2ubuntu0.4 [184 kB]\n",
            "Get: 2 http://archive.ubuntu.com/ubuntu bionic-updates/main amd64 libmagic1 amd64 1:5.32-2ubuntu0.4 [68.6 kB]\n",
            "Get: 3 http://archive.ubuntu.com/ubuntu bionic-updates/main amd64 file amd64 1:5.32-2ubuntu0.4 [22.1 kB]\n",
            "Get: 4 http://archive.ubuntu.com/ubuntu bionic/universe amd64 libmecab2 amd64 0.996-5 [257 kB]\n",
            "Get: 5 http://archive.ubuntu.com/ubuntu bionic/universe amd64 libmecab-dev amd64 0.996-5 [308 kB]\n",
            "Get: 6 http://archive.ubuntu.com/ubuntu bionic/universe amd64 mecab-utils amd64 0.996-5 [4,856 B]\n",
            "Get: 7 http://archive.ubuntu.com/ubuntu bionic/universe amd64 mecab-jumandic-utf8 all 7.0-20130310-4 [16.2 MB]\n",
            "Get: 8 http://archive.ubuntu.com/ubuntu bionic/universe amd64 mecab-jumandic all 7.0-20130310-4 [2,212 B]\n",
            "Get: 9 http://archive.ubuntu.com/ubuntu bionic/universe amd64 mecab-ipadic all 2.7.0-20070801+main-1 [12.1 MB]\n",
            "Get: 10 http://archive.ubuntu.com/ubuntu bionic/universe amd64 mecab amd64 0.996-5 [132 kB]\n",
            "Get: 11 http://archive.ubuntu.com/ubuntu bionic/universe amd64 mecab-ipadic-utf8 all 2.7.0-20070801+main-1 [3,522 B]\n",
            "Fetched 29.3 MB in 2s (15.8 MB/s)\n",
            "(Reading database ... 161165 files and directories currently installed.)\n",
            "Removing libnvidia-common-460 (460.73.01-0ubuntu1) ...\n",
            "Selecting previously unselected package libmagic-mgc.\n",
            "(Reading database ... 161160 files and directories currently installed.)\n",
            "Preparing to unpack .../00-libmagic-mgc_1%3a5.32-2ubuntu0.4_amd64.deb ...\n",
            "Unpacking libmagic-mgc (1:5.32-2ubuntu0.4) ...\n",
            "Selecting previously unselected package libmagic1:amd64.\n",
            "Preparing to unpack .../01-libmagic1_1%3a5.32-2ubuntu0.4_amd64.deb ...\n",
            "Unpacking libmagic1:amd64 (1:5.32-2ubuntu0.4) ...\n",
            "Selecting previously unselected package file.\n",
            "Preparing to unpack .../02-file_1%3a5.32-2ubuntu0.4_amd64.deb ...\n",
            "Unpacking file (1:5.32-2ubuntu0.4) ...\n",
            "Selecting previously unselected package libmecab2:amd64.\n",
            "Preparing to unpack .../03-libmecab2_0.996-5_amd64.deb ...\n",
            "Unpacking libmecab2:amd64 (0.996-5) ...\n",
            "Selecting previously unselected package libmecab-dev.\n",
            "Preparing to unpack .../04-libmecab-dev_0.996-5_amd64.deb ...\n",
            "Unpacking libmecab-dev (0.996-5) ...\n",
            "Selecting previously unselected package mecab-utils.\n",
            "Preparing to unpack .../05-mecab-utils_0.996-5_amd64.deb ...\n",
            "Unpacking mecab-utils (0.996-5) ...\n",
            "Selecting previously unselected package mecab-jumandic-utf8.\n",
            "Preparing to unpack .../06-mecab-jumandic-utf8_7.0-20130310-4_all.deb ...\n",
            "Unpacking mecab-jumandic-utf8 (7.0-20130310-4) ...\n",
            "Selecting previously unselected package mecab-jumandic.\n",
            "Preparing to unpack .../07-mecab-jumandic_7.0-20130310-4_all.deb ...\n",
            "Unpacking mecab-jumandic (7.0-20130310-4) ...\n",
            "Selecting previously unselected package mecab-ipadic.\n",
            "Preparing to unpack .../08-mecab-ipadic_2.7.0-20070801+main-1_all.deb ...\n",
            "Unpacking mecab-ipadic (2.7.0-20070801+main-1) ...\n",
            "Selecting previously unselected package mecab.\n",
            "Preparing to unpack .../09-mecab_0.996-5_amd64.deb ...\n",
            "Unpacking mecab (0.996-5) ...\n",
            "Selecting previously unselected package mecab-ipadic-utf8.\n",
            "Preparing to unpack .../10-mecab-ipadic-utf8_2.7.0-20070801+main-1_all.deb ...\n",
            "Unpacking mecab-ipadic-utf8 (2.7.0-20070801+main-1) ...\n",
            "Setting up libmecab2:amd64 (0.996-5) ...\n",
            "Setting up libmagic-mgc (1:5.32-2ubuntu0.4) ...\n",
            "Setting up libmagic1:amd64 (1:5.32-2ubuntu0.4) ...\n",
            "Setting up mecab-utils (0.996-5) ...\n",
            "Setting up mecab-ipadic (2.7.0-20070801+main-1) ...\n",
            "Compiling IPA dictionary for Mecab.  This takes long time...\n",
            "reading /usr/share/mecab/dic/ipadic/unk.def ... 40\n",
            "emitting double-array: 100% |###########################################| \n",
            "/usr/share/mecab/dic/ipadic/model.def is not found. skipped.\n",
            "reading /usr/share/mecab/dic/ipadic/Noun.proper.csv ... 27327\n",
            "reading /usr/share/mecab/dic/ipadic/Noun.place.csv ... 72999\n",
            "reading /usr/share/mecab/dic/ipadic/Auxil.csv ... 199\n",
            "reading /usr/share/mecab/dic/ipadic/Noun.adjv.csv ... 3328\n",
            "reading /usr/share/mecab/dic/ipadic/Suffix.csv ... 1393\n",
            "reading /usr/share/mecab/dic/ipadic/Noun.nai.csv ... 42\n",
            "reading /usr/share/mecab/dic/ipadic/Verb.csv ... 130750\n",
            "reading /usr/share/mecab/dic/ipadic/Noun.verbal.csv ... 12146\n",
            "reading /usr/share/mecab/dic/ipadic/Adj.csv ... 27210\n",
            "reading /usr/share/mecab/dic/ipadic/Postp-col.csv ... 91\n",
            "reading /usr/share/mecab/dic/ipadic/Noun.number.csv ... 42\n",
            "reading /usr/share/mecab/dic/ipadic/Noun.demonst.csv ... 120\n",
            "reading /usr/share/mecab/dic/ipadic/Prefix.csv ... 221\n",
            "reading /usr/share/mecab/dic/ipadic/Noun.adverbal.csv ... 795\n",
            "reading /usr/share/mecab/dic/ipadic/Adverb.csv ... 3032\n",
            "reading /usr/share/mecab/dic/ipadic/Filler.csv ... 19\n",
            "reading /usr/share/mecab/dic/ipadic/Symbol.csv ... 208\n",
            "reading /usr/share/mecab/dic/ipadic/Others.csv ... 2\n",
            "reading /usr/share/mecab/dic/ipadic/Conjunction.csv ... 171\n",
            "reading /usr/share/mecab/dic/ipadic/Noun.others.csv ... 151\n",
            "reading /usr/share/mecab/dic/ipadic/Interjection.csv ... 252\n",
            "reading /usr/share/mecab/dic/ipadic/Postp.csv ... 146\n",
            "reading /usr/share/mecab/dic/ipadic/Noun.csv ... 60477\n",
            "reading /usr/share/mecab/dic/ipadic/Noun.name.csv ... 34202\n",
            "reading /usr/share/mecab/dic/ipadic/Noun.org.csv ... 16668\n",
            "reading /usr/share/mecab/dic/ipadic/Adnominal.csv ... 135\n",
            "emitting double-array: 100% |###########################################| \n",
            "reading /usr/share/mecab/dic/ipadic/matrix.def ... 1316x1316\n",
            "emitting matrix      : 100% |###########################################| \n",
            "\n",
            "done!\n",
            "update-alternatives: using /var/lib/mecab/dic/ipadic to provide /var/lib/mecab/dic/debian (mecab-dictionary) in auto mode\n",
            "Setting up libmecab-dev (0.996-5) ...\n",
            "Setting up file (1:5.32-2ubuntu0.4) ...\n",
            "Setting up mecab-jumandic-utf8 (7.0-20130310-4) ...\n",
            "Compiling Juman dictionary for Mecab.\n",
            "reading /usr/share/mecab/dic/juman/unk.def ... 37\n",
            "emitting double-array: 100% |###########################################| \n",
            "reading /usr/share/mecab/dic/juman/Demonstrative.csv ... 97\n",
            "reading /usr/share/mecab/dic/juman/Suffix.csv ... 2128\n",
            "reading /usr/share/mecab/dic/juman/Noun.koyuu.csv ... 7964\n",
            "reading /usr/share/mecab/dic/juman/Special.csv ... 158\n",
            "reading /usr/share/mecab/dic/juman/Prefix.csv ... 90\n",
            "reading /usr/share/mecab/dic/juman/Auto.csv ... 18931\n",
            "reading /usr/share/mecab/dic/juman/Wikipedia.csv ... 167709\n",
            "reading /usr/share/mecab/dic/juman/Noun.hukusi.csv ... 81\n",
            "reading /usr/share/mecab/dic/juman/Noun.keishiki.csv ... 8\n",
            "reading /usr/share/mecab/dic/juman/ContentW.csv ... 551145\n",
            "reading /usr/share/mecab/dic/juman/Postp.csv ... 108\n",
            "reading /usr/share/mecab/dic/juman/AuxV.csv ... 593\n",
            "reading /usr/share/mecab/dic/juman/Assert.csv ... 34\n",
            "reading /usr/share/mecab/dic/juman/Rengo.csv ... 1118\n",
            "reading /usr/share/mecab/dic/juman/Noun.suusi.csv ... 49\n",
            "reading /usr/share/mecab/dic/juman/Emoticon.csv ... 972\n",
            "emitting double-array: 100% |###########################################| \n",
            "reading /usr/share/mecab/dic/juman/matrix.def ... 1876x1876\n",
            "emitting matrix      : 100% |###########################################| \n",
            "\n",
            "done!\n",
            "Setting up mecab-ipadic-utf8 (2.7.0-20070801+main-1) ...\n",
            "Compiling IPA dictionary for Mecab.  This takes long time...\n",
            "reading /usr/share/mecab/dic/ipadic/unk.def ... 40\n",
            "emitting double-array: 100% |###########################################| \n",
            "/usr/share/mecab/dic/ipadic/model.def is not found. skipped.\n",
            "reading /usr/share/mecab/dic/ipadic/Noun.proper.csv ... 27327\n",
            "reading /usr/share/mecab/dic/ipadic/Noun.place.csv ... 72999\n",
            "reading /usr/share/mecab/dic/ipadic/Auxil.csv ... 199\n",
            "reading /usr/share/mecab/dic/ipadic/Noun.adjv.csv ... 3328\n",
            "reading /usr/share/mecab/dic/ipadic/Suffix.csv ... 1393\n",
            "reading /usr/share/mecab/dic/ipadic/Noun.nai.csv ... 42\n",
            "reading /usr/share/mecab/dic/ipadic/Verb.csv ... 130750\n",
            "reading /usr/share/mecab/dic/ipadic/Noun.verbal.csv ... 12146\n",
            "reading /usr/share/mecab/dic/ipadic/Adj.csv ... 27210\n",
            "reading /usr/share/mecab/dic/ipadic/Postp-col.csv ... 91\n",
            "reading /usr/share/mecab/dic/ipadic/Noun.number.csv ... 42\n",
            "reading /usr/share/mecab/dic/ipadic/Noun.demonst.csv ... 120\n",
            "reading /usr/share/mecab/dic/ipadic/Prefix.csv ... 221\n",
            "reading /usr/share/mecab/dic/ipadic/Noun.adverbal.csv ... 795\n",
            "reading /usr/share/mecab/dic/ipadic/Adverb.csv ... 3032\n",
            "reading /usr/share/mecab/dic/ipadic/Filler.csv ... 19\n",
            "reading /usr/share/mecab/dic/ipadic/Symbol.csv ... 208\n",
            "reading /usr/share/mecab/dic/ipadic/Others.csv ... 2\n",
            "reading /usr/share/mecab/dic/ipadic/Conjunction.csv ... 171\n",
            "reading /usr/share/mecab/dic/ipadic/Noun.others.csv ... 151\n",
            "reading /usr/share/mecab/dic/ipadic/Interjection.csv ... 252\n",
            "reading /usr/share/mecab/dic/ipadic/Postp.csv ... 146\n",
            "reading /usr/share/mecab/dic/ipadic/Noun.csv ... 60477\n",
            "reading /usr/share/mecab/dic/ipadic/Noun.name.csv ... 34202\n",
            "reading /usr/share/mecab/dic/ipadic/Noun.org.csv ... 16668\n",
            "reading /usr/share/mecab/dic/ipadic/Adnominal.csv ... 135\n",
            "emitting double-array: 100% |###########################################| \n",
            "reading /usr/share/mecab/dic/ipadic/matrix.def ... 1316x1316\n",
            "emitting matrix      : 100% |###########################################| \n",
            "\n",
            "done!\n",
            "update-alternatives: using /var/lib/mecab/dic/ipadic-utf8 to provide /var/lib/mecab/dic/debian (mecab-dictionary) in auto mode\n",
            "Setting up mecab (0.996-5) ...\n",
            "Compiling IPA dictionary for Mecab.  This takes long time...\n",
            "reading /usr/share/mecab/dic/ipadic/unk.def ... 40\n",
            "emitting double-array: 100% |###########################################| \n",
            "/usr/share/mecab/dic/ipadic/model.def is not found. skipped.\n",
            "reading /usr/share/mecab/dic/ipadic/Noun.proper.csv ... 27327\n",
            "reading /usr/share/mecab/dic/ipadic/Noun.place.csv ... 72999\n",
            "reading /usr/share/mecab/dic/ipadic/Auxil.csv ... 199\n",
            "reading /usr/share/mecab/dic/ipadic/Noun.adjv.csv ... 3328\n",
            "reading /usr/share/mecab/dic/ipadic/Suffix.csv ... 1393\n",
            "reading /usr/share/mecab/dic/ipadic/Noun.nai.csv ... 42\n",
            "reading /usr/share/mecab/dic/ipadic/Verb.csv ... 130750\n",
            "reading /usr/share/mecab/dic/ipadic/Noun.verbal.csv ... 12146\n",
            "reading /usr/share/mecab/dic/ipadic/Adj.csv ... 27210\n",
            "reading /usr/share/mecab/dic/ipadic/Postp-col.csv ... 91\n",
            "reading /usr/share/mecab/dic/ipadic/Noun.number.csv ... 42\n",
            "reading /usr/share/mecab/dic/ipadic/Noun.demonst.csv ... 120\n",
            "reading /usr/share/mecab/dic/ipadic/Prefix.csv ... 221\n",
            "reading /usr/share/mecab/dic/ipadic/Noun.adverbal.csv ... 795\n",
            "reading /usr/share/mecab/dic/ipadic/Adverb.csv ... 3032\n",
            "reading /usr/share/mecab/dic/ipadic/Filler.csv ... 19\n",
            "reading /usr/share/mecab/dic/ipadic/Symbol.csv ... 208\n",
            "reading /usr/share/mecab/dic/ipadic/Others.csv ... 2\n",
            "reading /usr/share/mecab/dic/ipadic/Conjunction.csv ... 171\n",
            "reading /usr/share/mecab/dic/ipadic/Noun.others.csv ... 151\n",
            "reading /usr/share/mecab/dic/ipadic/Interjection.csv ... 252\n",
            "reading /usr/share/mecab/dic/ipadic/Postp.csv ... 146\n",
            "reading /usr/share/mecab/dic/ipadic/Noun.csv ... 60477\n",
            "reading /usr/share/mecab/dic/ipadic/Noun.name.csv ... 34202\n",
            "reading /usr/share/mecab/dic/ipadic/Noun.org.csv ... 16668\n",
            "reading /usr/share/mecab/dic/ipadic/Adnominal.csv ... 135\n",
            "emitting double-array: 100% |###########################################| \n",
            "reading /usr/share/mecab/dic/ipadic/matrix.def ... 1316x1316\n",
            "emitting matrix      : 100% |###########################################| \n",
            "\n",
            "done!\n",
            "Setting up mecab-jumandic (7.0-20130310-4) ...\n",
            "Processing triggers for man-db (2.8.3-2ubuntu0.1) ...\n",
            "Processing triggers for libc-bin (2.27-3ubuntu1.2) ...\n",
            "/sbin/ldconfig.real: /usr/local/lib/python3.7/dist-packages/ideep4py/lib/libmkldnn.so.0 is not a symbolic link\n",
            "\n",
            "                            \n"
          ],
          "name": "stdout"
        }
      ]
    },
    {
      "cell_type": "code",
      "metadata": {
        "id": "WonZ6wxfhGlw",
        "colab": {
          "base_uri": "https://localhost:8080/"
        },
        "outputId": "6fb46d4b-866a-49ea-ce45-a3c75075269f"
      },
      "source": [
        "!pip install mecab-python3==0.7"
      ],
      "execution_count": null,
      "outputs": [
        {
          "output_type": "stream",
          "text": [
            "Collecting mecab-python3==0.7\n",
            "\u001b[?25l  Downloading https://files.pythonhosted.org/packages/25/e9/bbf5fc790a2bedd96fbaf47a84afa060bfb0b3e0217e5f64b32bd4bbad69/mecab-python3-0.7.tar.gz (41kB)\n",
            "\u001b[K     |████████████████████████████████| 51kB 3.6MB/s \n",
            "\u001b[?25hBuilding wheels for collected packages: mecab-python3\n",
            "  Building wheel for mecab-python3 (setup.py) ... \u001b[?25l\u001b[?25hdone\n",
            "  Created wheel for mecab-python3: filename=mecab_python3-0.7-cp37-cp37m-linux_x86_64.whl size=156587 sha256=c3224266fe20eb90c77a1bbe9cf93b4a0add18e1e9d03a40ff77dc34988c76e0\n",
            "  Stored in directory: /root/.cache/pip/wheels/4c/07/3a/5f22ccc9f381f3bc01fa023202061cd1e0e9af855292f005dd\n",
            "Successfully built mecab-python3\n",
            "Installing collected packages: mecab-python3\n",
            "Successfully installed mecab-python3-0.7\n"
          ],
          "name": "stdout"
        }
      ]
    },
    {
      "cell_type": "code",
      "metadata": {
        "id": "nhgfGXCQhLoz"
      },
      "source": [
        "import MeCab\n",
        "from glob import glob"
      ],
      "execution_count": null,
      "outputs": []
    },
    {
      "cell_type": "markdown",
      "metadata": {
        "id": "8fS8dnfy6Cj_"
      },
      "source": [
        "# 1.テキストファイルの書き出し"
      ]
    },
    {
      "cell_type": "code",
      "metadata": {
        "id": "P1X3n5gchQfA"
      },
      "source": [
        "txt = '''はじめまして、こちらはいまにゅチャンネルです。\n",
        "Pythonを使いこなして色んなことができるように、一緒に学んでいきましょう。\n",
        "本講義では特に自然言語処理について学びます。\n",
        "様々なライブラリを活用することで手軽に分析ができます。\n",
        "では早速進めていきましょう。'''"
      ],
      "execution_count": null,
      "outputs": []
    },
    {
      "cell_type": "code",
      "metadata": {
        "id": "TzV0yS9LiFyj"
      },
      "source": [
        "with open('output.txt', 'x') as f:\n",
        "    f.write(txt)"
      ],
      "execution_count": null,
      "outputs": []
    },
    {
      "cell_type": "markdown",
      "metadata": {
        "id": "juy3UU9o6kSD"
      },
      "source": [
        "# 2.テキストファイルの読み込み"
      ]
    },
    {
      "cell_type": "code",
      "metadata": {
        "colab": {
          "base_uri": "https://localhost:8080/"
        },
        "id": "1BxgqiFAizz0",
        "outputId": "6cf44142-89a0-44fa-827e-a7def6497578"
      },
      "source": [
        "filepaths = glob('*.txt')\n",
        "filepaths"
      ],
      "execution_count": null,
      "outputs": [
        {
          "output_type": "execute_result",
          "data": {
            "text/plain": [
              "['output.txt']"
            ]
          },
          "metadata": {
            "tags": []
          },
          "execution_count": 10
        }
      ]
    },
    {
      "cell_type": "code",
      "metadata": {
        "id": "UG_DP1yAijlA"
      },
      "source": [
        "filepath = filepaths[0]"
      ],
      "execution_count": null,
      "outputs": []
    },
    {
      "cell_type": "code",
      "metadata": {
        "colab": {
          "base_uri": "https://localhost:8080/",
          "height": 35
        },
        "id": "HFOXyPcujbbs",
        "outputId": "e6d0d218-9385-46f2-adce-b006dd76f2ac"
      },
      "source": [
        "filepath"
      ],
      "execution_count": null,
      "outputs": [
        {
          "output_type": "execute_result",
          "data": {
            "application/vnd.google.colaboratory.intrinsic+json": {
              "type": "string"
            },
            "text/plain": [
              "'output.txt'"
            ]
          },
          "metadata": {
            "tags": []
          },
          "execution_count": 12
        }
      ]
    },
    {
      "cell_type": "code",
      "metadata": {
        "id": "rLb5YlpljN1P"
      },
      "source": [
        "with open(filepath, 'r') as f:\n",
        "    txt = f.read()"
      ],
      "execution_count": null,
      "outputs": []
    },
    {
      "cell_type": "code",
      "metadata": {
        "colab": {
          "base_uri": "https://localhost:8080/",
          "height": 70
        },
        "id": "-jDy7TrAjY4C",
        "outputId": "06f339fd-66b7-4edc-9bf8-60614f098349"
      },
      "source": [
        "txt"
      ],
      "execution_count": null,
      "outputs": [
        {
          "output_type": "execute_result",
          "data": {
            "application/vnd.google.colaboratory.intrinsic+json": {
              "type": "string"
            },
            "text/plain": [
              "'はじめまして、こちらはいまにゅチャンネルです。\\nPythonを使いこなして色んなことができるように、一緒に学んでいきましょう。\\n本講義では特に自然言語処理について学びます。\\n様々なライブラリを活用することで手軽に分析ができます。\\nでは早速進めていきましょう。'"
            ]
          },
          "metadata": {
            "tags": []
          },
          "execution_count": 14
        }
      ]
    },
    {
      "cell_type": "markdown",
      "metadata": {
        "id": "EyBnu9AS_Oh_"
      },
      "source": [
        "# 3.形態素解析1(MeCab形式)"
      ]
    },
    {
      "cell_type": "code",
      "metadata": {
        "colab": {
          "base_uri": "https://localhost:8080/"
        },
        "id": "Bmg3dNJI_Qyf",
        "outputId": "09da1713-7197-4f6a-f032-ad2c7104ac5c"
      },
      "source": [
        "tagger = MeCab.Tagger()\n",
        "print(tagger.parse(txt))"
      ],
      "execution_count": null,
      "outputs": [
        {
          "output_type": "stream",
          "text": [
            "はじめまして\t感動詞,*,*,*,*,*,はじめまして,ハジメマシテ,ハジメマシテ\n",
            "、\t記号,読点,*,*,*,*,、,、,、\n",
            "こちら\t名詞,代名詞,一般,*,*,*,こちら,コチラ,コチラ\n",
            "は\t助詞,係助詞,*,*,*,*,は,ハ,ワ\n",
            "いま\t名詞,副詞可能,*,*,*,*,いま,イマ,イマ\n",
            "に\t助詞,格助詞,一般,*,*,*,に,ニ,ニ\n",
            "ゅ\t名詞,一般,*,*,*,*,*\n",
            "チャンネル\t名詞,一般,*,*,*,*,チャンネル,チャンネル,チャンネル\n",
            "です\t助動詞,*,*,*,特殊・デス,基本形,です,デス,デス\n",
            "。\t記号,句点,*,*,*,*,。,。,。\n",
            "Python\t名詞,一般,*,*,*,*,*\n",
            "を\t助詞,格助詞,一般,*,*,*,を,ヲ,ヲ\n",
            "使いこなし\t動詞,自立,*,*,五段・サ行,連用形,使いこなす,ツカイコナシ,ツカイコナシ\n",
            "て\t助詞,接続助詞,*,*,*,*,て,テ,テ\n",
            "色んな\t連体詞,*,*,*,*,*,色んな,イロンナ,イロンナ\n",
            "こと\t名詞,非自立,一般,*,*,*,こと,コト,コト\n",
            "が\t助詞,格助詞,一般,*,*,*,が,ガ,ガ\n",
            "できる\t動詞,自立,*,*,一段,基本形,できる,デキル,デキル\n",
            "よう\t名詞,非自立,助動詞語幹,*,*,*,よう,ヨウ,ヨー\n",
            "に\t助詞,副詞化,*,*,*,*,に,ニ,ニ\n",
            "、\t記号,読点,*,*,*,*,、,、,、\n",
            "一緒\t名詞,サ変接続,*,*,*,*,一緒,イッショ,イッショ\n",
            "に\t助詞,格助詞,一般,*,*,*,に,ニ,ニ\n",
            "学ん\t動詞,自立,*,*,五段・バ行,連用タ接続,学ぶ,マナン,マナン\n",
            "で\t助詞,接続助詞,*,*,*,*,で,デ,デ\n",
            "いき\t動詞,非自立,*,*,五段・カ行促音便,連用形,いく,イキ,イキ\n",
            "ましょ\t助動詞,*,*,*,特殊・マス,未然ウ接続,ます,マショ,マショ\n",
            "う\t助動詞,*,*,*,不変化型,基本形,う,ウ,ウ\n",
            "。\t記号,句点,*,*,*,*,。,。,。\n",
            "本\t接頭詞,名詞接続,*,*,*,*,本,ホン,ホン\n",
            "講義\t名詞,サ変接続,*,*,*,*,講義,コウギ,コーギ\n",
            "で\t助詞,格助詞,一般,*,*,*,で,デ,デ\n",
            "は\t助詞,係助詞,*,*,*,*,は,ハ,ワ\n",
            "特に\t副詞,一般,*,*,*,*,特に,トクニ,トクニ\n",
            "自然\t名詞,形容動詞語幹,*,*,*,*,自然,シゼン,シゼン\n",
            "言語\t名詞,一般,*,*,*,*,言語,ゲンゴ,ゲンゴ\n",
            "処理\t名詞,サ変接続,*,*,*,*,処理,ショリ,ショリ\n",
            "について\t助詞,格助詞,連語,*,*,*,について,ニツイテ,ニツイテ\n",
            "学び\t動詞,自立,*,*,五段・バ行,連用形,学ぶ,マナビ,マナビ\n",
            "ます\t助動詞,*,*,*,特殊・マス,基本形,ます,マス,マス\n",
            "。\t記号,句点,*,*,*,*,。,。,。\n",
            "様々\t名詞,形容動詞語幹,*,*,*,*,様々,サマザマ,サマザマ\n",
            "な\t助動詞,*,*,*,特殊・ダ,体言接続,だ,ナ,ナ\n",
            "ライブラリ\t名詞,一般,*,*,*,*,ライブラリ,ライブラリ,ライブラリ\n",
            "を\t助詞,格助詞,一般,*,*,*,を,ヲ,ヲ\n",
            "活用\t名詞,サ変接続,*,*,*,*,活用,カツヨウ,カツヨー\n",
            "する\t動詞,自立,*,*,サ変・スル,基本形,する,スル,スル\n",
            "こと\t名詞,非自立,一般,*,*,*,こと,コト,コト\n",
            "で\t助詞,格助詞,一般,*,*,*,で,デ,デ\n",
            "手軽\t名詞,形容動詞語幹,*,*,*,*,手軽,テガル,テガル\n",
            "に\t助詞,副詞化,*,*,*,*,に,ニ,ニ\n",
            "分析\t名詞,サ変接続,*,*,*,*,分析,ブンセキ,ブンセキ\n",
            "が\t助詞,格助詞,一般,*,*,*,が,ガ,ガ\n",
            "でき\t動詞,自立,*,*,一段,連用形,できる,デキ,デキ\n",
            "ます\t助動詞,*,*,*,特殊・マス,基本形,ます,マス,マス\n",
            "。\t記号,句点,*,*,*,*,。,。,。\n",
            "で\t助動詞,*,*,*,特殊・ダ,連用形,だ,デ,デ\n",
            "は\t助詞,係助詞,*,*,*,*,は,ハ,ワ\n",
            "早速\t副詞,助詞類接続,*,*,*,*,早速,サッソク,サッソク\n",
            "進め\t動詞,自立,*,*,一段,連用形,進める,ススメ,ススメ\n",
            "て\t助詞,接続助詞,*,*,*,*,て,テ,テ\n",
            "いき\t動詞,非自立,*,*,五段・カ行促音便,連用形,いく,イキ,イキ\n",
            "ましょ\t助動詞,*,*,*,特殊・マス,未然ウ接続,ます,マショ,マショ\n",
            "う\t助動詞,*,*,*,不変化型,基本形,う,ウ,ウ\n",
            "。\t記号,句点,*,*,*,*,。,。,。\n",
            "EOS\n",
            "\n"
          ],
          "name": "stdout"
        }
      ]
    },
    {
      "cell_type": "markdown",
      "metadata": {
        "id": "T0hYSnPEPeK2"
      },
      "source": [
        "# 4.形態素解析2(ChasSen形式)"
      ]
    },
    {
      "cell_type": "code",
      "metadata": {
        "colab": {
          "base_uri": "https://localhost:8080/"
        },
        "id": "dkjmE0qP_cnP",
        "outputId": "ef8d8694-1b96-4173-ae5b-1bf59e8f8818"
      },
      "source": [
        "tagger = MeCab.Tagger('-Ochasen')\n",
        "print(tagger.parse(txt))"
      ],
      "execution_count": null,
      "outputs": [
        {
          "output_type": "stream",
          "text": [
            "はじめまして\tハジメマシテ\tはじめまして\t感動詞\t\t\n",
            "、\t、\t、\t記号-読点\t\t\n",
            "こちら\tコチラ\tこちら\t名詞-代名詞-一般\t\t\n",
            "は\tハ\tは\t助詞-係助詞\t\t\n",
            "いま\tイマ\tいま\t名詞-副詞可能\t\t\n",
            "に\tニ\tに\t助詞-格助詞-一般\t\t\n",
            "ゅ\tゅ\tゅ\t名詞-一般\t\t\n",
            "チャンネル\tチャンネル\tチャンネル\t名詞-一般\t\t\n",
            "です\tデス\tです\t助動詞\t特殊・デス\t基本形\n",
            "。\t。\t。\t記号-句点\t\t\n",
            "Python\tPython\tPython\t名詞-一般\t\t\n",
            "を\tヲ\tを\t助詞-格助詞-一般\t\t\n",
            "使いこなし\tツカイコナシ\t使いこなす\t動詞-自立\t五段・サ行\t連用形\n",
            "て\tテ\tて\t助詞-接続助詞\t\t\n",
            "色んな\tイロンナ\t色んな\t連体詞\t\t\n",
            "こと\tコト\tこと\t名詞-非自立-一般\t\t\n",
            "が\tガ\tが\t助詞-格助詞-一般\t\t\n",
            "できる\tデキル\tできる\t動詞-自立\t一段\t基本形\n",
            "よう\tヨウ\tよう\t名詞-非自立-助動詞語幹\t\t\n",
            "に\tニ\tに\t助詞-副詞化\t\t\n",
            "、\t、\t、\t記号-読点\t\t\n",
            "一緒\tイッショ\t一緒\t名詞-サ変接続\t\t\n",
            "に\tニ\tに\t助詞-格助詞-一般\t\t\n",
            "学ん\tマナン\t学ぶ\t動詞-自立\t五段・バ行\t連用タ接続\n",
            "で\tデ\tで\t助詞-接続助詞\t\t\n",
            "いき\tイキ\tいく\t動詞-非自立\t五段・カ行促音便\t連用形\n",
            "ましょ\tマショ\tます\t助動詞\t特殊・マス\t未然ウ接続\n",
            "う\tウ\tう\t助動詞\t不変化型\t基本形\n",
            "。\t。\t。\t記号-句点\t\t\n",
            "本\tホン\t本\t接頭詞-名詞接続\t\t\n",
            "講義\tコウギ\t講義\t名詞-サ変接続\t\t\n",
            "で\tデ\tで\t助詞-格助詞-一般\t\t\n",
            "は\tハ\tは\t助詞-係助詞\t\t\n",
            "特に\tトクニ\t特に\t副詞-一般\t\t\n",
            "自然\tシゼン\t自然\t名詞-形容動詞語幹\t\t\n",
            "言語\tゲンゴ\t言語\t名詞-一般\t\t\n",
            "処理\tショリ\t処理\t名詞-サ変接続\t\t\n",
            "について\tニツイテ\tについて\t助詞-格助詞-連語\t\t\n",
            "学び\tマナビ\t学ぶ\t動詞-自立\t五段・バ行\t連用形\n",
            "ます\tマス\tます\t助動詞\t特殊・マス\t基本形\n",
            "。\t。\t。\t記号-句点\t\t\n",
            "様々\tサマザマ\t様々\t名詞-形容動詞語幹\t\t\n",
            "な\tナ\tだ\t助動詞\t特殊・ダ\t体言接続\n",
            "ライブラリ\tライブラリ\tライブラリ\t名詞-一般\t\t\n",
            "を\tヲ\tを\t助詞-格助詞-一般\t\t\n",
            "活用\tカツヨウ\t活用\t名詞-サ変接続\t\t\n",
            "する\tスル\tする\t動詞-自立\tサ変・スル\t基本形\n",
            "こと\tコト\tこと\t名詞-非自立-一般\t\t\n",
            "で\tデ\tで\t助詞-格助詞-一般\t\t\n",
            "手軽\tテガル\t手軽\t名詞-形容動詞語幹\t\t\n",
            "に\tニ\tに\t助詞-副詞化\t\t\n",
            "分析\tブンセキ\t分析\t名詞-サ変接続\t\t\n",
            "が\tガ\tが\t助詞-格助詞-一般\t\t\n",
            "でき\tデキ\tできる\t動詞-自立\t一段\t連用形\n",
            "ます\tマス\tます\t助動詞\t特殊・マス\t基本形\n",
            "。\t。\t。\t記号-句点\t\t\n",
            "で\tデ\tだ\t助動詞\t特殊・ダ\t連用形\n",
            "は\tハ\tは\t助詞-係助詞\t\t\n",
            "早速\tサッソク\t早速\t副詞-助詞類接続\t\t\n",
            "進め\tススメ\t進める\t動詞-自立\t一段\t連用形\n",
            "て\tテ\tて\t助詞-接続助詞\t\t\n",
            "いき\tイキ\tいく\t動詞-非自立\t五段・カ行促音便\t連用形\n",
            "ましょ\tマショ\tます\t助動詞\t特殊・マス\t未然ウ接続\n",
            "う\tウ\tう\t助動詞\t不変化型\t基本形\n",
            "。\t。\t。\t記号-句点\t\t\n",
            "EOS\n",
            "\n"
          ],
          "name": "stdout"
        }
      ]
    },
    {
      "cell_type": "markdown",
      "metadata": {
        "id": "cU2ZsRppRb1p"
      },
      "source": [
        "# 5.形態素解析3(分かち書き)"
      ]
    },
    {
      "cell_type": "code",
      "metadata": {
        "colab": {
          "base_uri": "https://localhost:8080/"
        },
        "id": "HVSsDzif_zIz",
        "outputId": "76acb623-5efa-4ed0-8131-4a2cf89966a2"
      },
      "source": [
        "tagger = MeCab.Tagger('-Owakati')\n",
        "print(tagger.parse(txt))"
      ],
      "execution_count": null,
      "outputs": [
        {
          "output_type": "stream",
          "text": [
            "はじめまして 、 こちら は いま に ゅ チャンネル です 。 Python を 使いこなし て 色んな こと が できる よう に 、 一緒 に 学ん で いき ましょ う 。 本 講義 で は 特に 自然 言語 処理 について 学び ます 。 様々 な ライブラリ を 活用 する こと で 手軽 に 分析 が でき ます 。 で は 早速 進め て いき ましょ う 。 \n",
            "\n"
          ],
          "name": "stdout"
        }
      ]
    },
    {
      "cell_type": "markdown",
      "metadata": {
        "id": "qPrERGUh8X1L"
      },
      "source": [
        "# 6.形態素解析4(カタカナ変換)"
      ]
    },
    {
      "cell_type": "code",
      "metadata": {
        "colab": {
          "base_uri": "https://localhost:8080/"
        },
        "id": "Ou6e2SfMAKwm",
        "outputId": "a3a59c8b-7125-4fe7-8b29-a8d7c2182517"
      },
      "source": [
        "tagger = MeCab.Tagger('-Oyomi')\n",
        "print(tagger.parse(txt))"
      ],
      "execution_count": null,
      "outputs": [
        {
          "output_type": "stream",
          "text": [
            "ハジメマシテ、コチラハイマニゅチャンネルデス。\n",
            "Pythonヲツカイコナシテイロンナコトガデキルヨウニ、イッショニマナンデイキマショウ。\n",
            "ホンコウギデハトクニシゼンゲンゴショリニツイテマナビマス。\n",
            "サマザマナライブラリヲカツヨウスルコトデテガルニブンセキガデキマス。\n",
            "デハサッソクススメテイキマショウ。\n",
            "\n"
          ],
          "name": "stdout"
        }
      ]
    },
    {
      "cell_type": "markdown",
      "metadata": {
        "id": "1pwbraQ38w68"
      },
      "source": [
        "# 7.品詞毎の分類"
      ]
    },
    {
      "cell_type": "code",
      "metadata": {
        "id": "yJZVvZmxAfNR",
        "colab": {
          "base_uri": "https://localhost:8080/"
        },
        "outputId": "88e2f2bf-f72f-4f3f-a129-5ed11ce90ea1"
      },
      "source": [
        "tagger = MeCab.Tagger() # Mecab形式\n",
        "parsed_txt = tagger.parse(txt)\n",
        "elements = parsed_txt.split('\\n')[:-2] # 末尾2文字は不要なため除去\n",
        "elements"
      ],
      "execution_count": null,
      "outputs": [
        {
          "output_type": "execute_result",
          "data": {
            "text/plain": [
              "['はじめまして\\t感動詞,*,*,*,*,*,はじめまして,ハジメマシテ,ハジメマシテ',\n",
              " '、\\t記号,読点,*,*,*,*,、,、,、',\n",
              " 'こちら\\t名詞,代名詞,一般,*,*,*,こちら,コチラ,コチラ',\n",
              " 'は\\t助詞,係助詞,*,*,*,*,は,ハ,ワ',\n",
              " 'いま\\t名詞,副詞可能,*,*,*,*,いま,イマ,イマ',\n",
              " 'に\\t助詞,格助詞,一般,*,*,*,に,ニ,ニ',\n",
              " 'ゅ\\t名詞,一般,*,*,*,*,*',\n",
              " 'チャンネル\\t名詞,一般,*,*,*,*,チャンネル,チャンネル,チャンネル',\n",
              " 'です\\t助動詞,*,*,*,特殊・デス,基本形,です,デス,デス',\n",
              " '。\\t記号,句点,*,*,*,*,。,。,。',\n",
              " 'Python\\t名詞,一般,*,*,*,*,*',\n",
              " 'を\\t助詞,格助詞,一般,*,*,*,を,ヲ,ヲ',\n",
              " '使いこなし\\t動詞,自立,*,*,五段・サ行,連用形,使いこなす,ツカイコナシ,ツカイコナシ',\n",
              " 'て\\t助詞,接続助詞,*,*,*,*,て,テ,テ',\n",
              " '色んな\\t連体詞,*,*,*,*,*,色んな,イロンナ,イロンナ',\n",
              " 'こと\\t名詞,非自立,一般,*,*,*,こと,コト,コト',\n",
              " 'が\\t助詞,格助詞,一般,*,*,*,が,ガ,ガ',\n",
              " 'できる\\t動詞,自立,*,*,一段,基本形,できる,デキル,デキル',\n",
              " 'よう\\t名詞,非自立,助動詞語幹,*,*,*,よう,ヨウ,ヨー',\n",
              " 'に\\t助詞,副詞化,*,*,*,*,に,ニ,ニ',\n",
              " '、\\t記号,読点,*,*,*,*,、,、,、',\n",
              " '一緒\\t名詞,サ変接続,*,*,*,*,一緒,イッショ,イッショ',\n",
              " 'に\\t助詞,格助詞,一般,*,*,*,に,ニ,ニ',\n",
              " '学ん\\t動詞,自立,*,*,五段・バ行,連用タ接続,学ぶ,マナン,マナン',\n",
              " 'で\\t助詞,接続助詞,*,*,*,*,で,デ,デ',\n",
              " 'いき\\t動詞,非自立,*,*,五段・カ行促音便,連用形,いく,イキ,イキ',\n",
              " 'ましょ\\t助動詞,*,*,*,特殊・マス,未然ウ接続,ます,マショ,マショ',\n",
              " 'う\\t助動詞,*,*,*,不変化型,基本形,う,ウ,ウ',\n",
              " '。\\t記号,句点,*,*,*,*,。,。,。',\n",
              " '本\\t接頭詞,名詞接続,*,*,*,*,本,ホン,ホン',\n",
              " '講義\\t名詞,サ変接続,*,*,*,*,講義,コウギ,コーギ',\n",
              " 'で\\t助詞,格助詞,一般,*,*,*,で,デ,デ',\n",
              " 'は\\t助詞,係助詞,*,*,*,*,は,ハ,ワ',\n",
              " '特に\\t副詞,一般,*,*,*,*,特に,トクニ,トクニ',\n",
              " '自然\\t名詞,形容動詞語幹,*,*,*,*,自然,シゼン,シゼン',\n",
              " '言語\\t名詞,一般,*,*,*,*,言語,ゲンゴ,ゲンゴ',\n",
              " '処理\\t名詞,サ変接続,*,*,*,*,処理,ショリ,ショリ',\n",
              " 'について\\t助詞,格助詞,連語,*,*,*,について,ニツイテ,ニツイテ',\n",
              " '学び\\t動詞,自立,*,*,五段・バ行,連用形,学ぶ,マナビ,マナビ',\n",
              " 'ます\\t助動詞,*,*,*,特殊・マス,基本形,ます,マス,マス',\n",
              " '。\\t記号,句点,*,*,*,*,。,。,。',\n",
              " '様々\\t名詞,形容動詞語幹,*,*,*,*,様々,サマザマ,サマザマ',\n",
              " 'な\\t助動詞,*,*,*,特殊・ダ,体言接続,だ,ナ,ナ',\n",
              " 'ライブラリ\\t名詞,一般,*,*,*,*,ライブラリ,ライブラリ,ライブラリ',\n",
              " 'を\\t助詞,格助詞,一般,*,*,*,を,ヲ,ヲ',\n",
              " '活用\\t名詞,サ変接続,*,*,*,*,活用,カツヨウ,カツヨー',\n",
              " 'する\\t動詞,自立,*,*,サ変・スル,基本形,する,スル,スル',\n",
              " 'こと\\t名詞,非自立,一般,*,*,*,こと,コト,コト',\n",
              " 'で\\t助詞,格助詞,一般,*,*,*,で,デ,デ',\n",
              " '手軽\\t名詞,形容動詞語幹,*,*,*,*,手軽,テガル,テガル',\n",
              " 'に\\t助詞,副詞化,*,*,*,*,に,ニ,ニ',\n",
              " '分析\\t名詞,サ変接続,*,*,*,*,分析,ブンセキ,ブンセキ',\n",
              " 'が\\t助詞,格助詞,一般,*,*,*,が,ガ,ガ',\n",
              " 'でき\\t動詞,自立,*,*,一段,連用形,できる,デキ,デキ',\n",
              " 'ます\\t助動詞,*,*,*,特殊・マス,基本形,ます,マス,マス',\n",
              " '。\\t記号,句点,*,*,*,*,。,。,。',\n",
              " 'で\\t助動詞,*,*,*,特殊・ダ,連用形,だ,デ,デ',\n",
              " 'は\\t助詞,係助詞,*,*,*,*,は,ハ,ワ',\n",
              " '早速\\t副詞,助詞類接続,*,*,*,*,早速,サッソク,サッソク',\n",
              " '進め\\t動詞,自立,*,*,一段,連用形,進める,ススメ,ススメ',\n",
              " 'て\\t助詞,接続助詞,*,*,*,*,て,テ,テ',\n",
              " 'いき\\t動詞,非自立,*,*,五段・カ行促音便,連用形,いく,イキ,イキ',\n",
              " 'ましょ\\t助動詞,*,*,*,特殊・マス,未然ウ接続,ます,マショ,マショ',\n",
              " 'う\\t助動詞,*,*,*,不変化型,基本形,う,ウ,ウ',\n",
              " '。\\t記号,句点,*,*,*,*,。,。,。']"
            ]
          },
          "metadata": {
            "tags": []
          },
          "execution_count": 20
        }
      ]
    },
    {
      "cell_type": "code",
      "metadata": {
        "id": "rGy2glL2apHv"
      },
      "source": [
        "results = []\n",
        "\n",
        "for element in elements:\n",
        "    parts = element.split(',')\n",
        "    surface_pos, pos1, base = parts[0], parts[1], parts[-3]\n",
        "    surface, pos = surface_pos.split('\\t')\n",
        "    results.append(dict(表層形= surface, 基本形=base, 品詞= pos, 品詞1 =pos1))"
      ],
      "execution_count": null,
      "outputs": []
    },
    {
      "cell_type": "code",
      "metadata": {
        "colab": {
          "base_uri": "https://localhost:8080/"
        },
        "id": "VDLBoxJYdWzp",
        "outputId": "2932112f-af3e-4701-e790-30b5235def12"
      },
      "source": [
        "results"
      ],
      "execution_count": null,
      "outputs": [
        {
          "output_type": "execute_result",
          "data": {
            "text/plain": [
              "[{'品詞': '感動詞', '品詞1': '*', '基本形': 'はじめまして', '表層形': 'はじめまして'},\n",
              " {'品詞': '記号', '品詞1': '読点', '基本形': '、', '表層形': '、'},\n",
              " {'品詞': '名詞', '品詞1': '代名詞', '基本形': 'こちら', '表層形': 'こちら'},\n",
              " {'品詞': '助詞', '品詞1': '係助詞', '基本形': 'は', '表層形': 'は'},\n",
              " {'品詞': '名詞', '品詞1': '副詞可能', '基本形': 'いま', '表層形': 'いま'},\n",
              " {'品詞': '助詞', '品詞1': '格助詞', '基本形': 'に', '表層形': 'に'},\n",
              " {'品詞': '名詞', '品詞1': '一般', '基本形': '*', '表層形': 'ゅ'},\n",
              " {'品詞': '名詞', '品詞1': '一般', '基本形': 'チャンネル', '表層形': 'チャンネル'},\n",
              " {'品詞': '助動詞', '品詞1': '*', '基本形': 'です', '表層形': 'です'},\n",
              " {'品詞': '記号', '品詞1': '句点', '基本形': '。', '表層形': '。'},\n",
              " {'品詞': '名詞', '品詞1': '一般', '基本形': '*', '表層形': 'Python'},\n",
              " {'品詞': '助詞', '品詞1': '格助詞', '基本形': 'を', '表層形': 'を'},\n",
              " {'品詞': '動詞', '品詞1': '自立', '基本形': '使いこなす', '表層形': '使いこなし'},\n",
              " {'品詞': '助詞', '品詞1': '接続助詞', '基本形': 'て', '表層形': 'て'},\n",
              " {'品詞': '連体詞', '品詞1': '*', '基本形': '色んな', '表層形': '色んな'},\n",
              " {'品詞': '名詞', '品詞1': '非自立', '基本形': 'こと', '表層形': 'こと'},\n",
              " {'品詞': '助詞', '品詞1': '格助詞', '基本形': 'が', '表層形': 'が'},\n",
              " {'品詞': '動詞', '品詞1': '自立', '基本形': 'できる', '表層形': 'できる'},\n",
              " {'品詞': '名詞', '品詞1': '非自立', '基本形': 'よう', '表層形': 'よう'},\n",
              " {'品詞': '助詞', '品詞1': '副詞化', '基本形': 'に', '表層形': 'に'},\n",
              " {'品詞': '記号', '品詞1': '読点', '基本形': '、', '表層形': '、'},\n",
              " {'品詞': '名詞', '品詞1': 'サ変接続', '基本形': '一緒', '表層形': '一緒'},\n",
              " {'品詞': '助詞', '品詞1': '格助詞', '基本形': 'に', '表層形': 'に'},\n",
              " {'品詞': '動詞', '品詞1': '自立', '基本形': '学ぶ', '表層形': '学ん'},\n",
              " {'品詞': '助詞', '品詞1': '接続助詞', '基本形': 'で', '表層形': 'で'},\n",
              " {'品詞': '動詞', '品詞1': '非自立', '基本形': 'いく', '表層形': 'いき'},\n",
              " {'品詞': '助動詞', '品詞1': '*', '基本形': 'ます', '表層形': 'ましょ'},\n",
              " {'品詞': '助動詞', '品詞1': '*', '基本形': 'う', '表層形': 'う'},\n",
              " {'品詞': '記号', '品詞1': '句点', '基本形': '。', '表層形': '。'},\n",
              " {'品詞': '接頭詞', '品詞1': '名詞接続', '基本形': '本', '表層形': '本'},\n",
              " {'品詞': '名詞', '品詞1': 'サ変接続', '基本形': '講義', '表層形': '講義'},\n",
              " {'品詞': '助詞', '品詞1': '格助詞', '基本形': 'で', '表層形': 'で'},\n",
              " {'品詞': '助詞', '品詞1': '係助詞', '基本形': 'は', '表層形': 'は'},\n",
              " {'品詞': '副詞', '品詞1': '一般', '基本形': '特に', '表層形': '特に'},\n",
              " {'品詞': '名詞', '品詞1': '形容動詞語幹', '基本形': '自然', '表層形': '自然'},\n",
              " {'品詞': '名詞', '品詞1': '一般', '基本形': '言語', '表層形': '言語'},\n",
              " {'品詞': '名詞', '品詞1': 'サ変接続', '基本形': '処理', '表層形': '処理'},\n",
              " {'品詞': '助詞', '品詞1': '格助詞', '基本形': 'について', '表層形': 'について'},\n",
              " {'品詞': '動詞', '品詞1': '自立', '基本形': '学ぶ', '表層形': '学び'},\n",
              " {'品詞': '助動詞', '品詞1': '*', '基本形': 'ます', '表層形': 'ます'},\n",
              " {'品詞': '記号', '品詞1': '句点', '基本形': '。', '表層形': '。'},\n",
              " {'品詞': '名詞', '品詞1': '形容動詞語幹', '基本形': '様々', '表層形': '様々'},\n",
              " {'品詞': '助動詞', '品詞1': '*', '基本形': 'だ', '表層形': 'な'},\n",
              " {'品詞': '名詞', '品詞1': '一般', '基本形': 'ライブラリ', '表層形': 'ライブラリ'},\n",
              " {'品詞': '助詞', '品詞1': '格助詞', '基本形': 'を', '表層形': 'を'},\n",
              " {'品詞': '名詞', '品詞1': 'サ変接続', '基本形': '活用', '表層形': '活用'},\n",
              " {'品詞': '動詞', '品詞1': '自立', '基本形': 'する', '表層形': 'する'},\n",
              " {'品詞': '名詞', '品詞1': '非自立', '基本形': 'こと', '表層形': 'こと'},\n",
              " {'品詞': '助詞', '品詞1': '格助詞', '基本形': 'で', '表層形': 'で'},\n",
              " {'品詞': '名詞', '品詞1': '形容動詞語幹', '基本形': '手軽', '表層形': '手軽'},\n",
              " {'品詞': '助詞', '品詞1': '副詞化', '基本形': 'に', '表層形': 'に'},\n",
              " {'品詞': '名詞', '品詞1': 'サ変接続', '基本形': '分析', '表層形': '分析'},\n",
              " {'品詞': '助詞', '品詞1': '格助詞', '基本形': 'が', '表層形': 'が'},\n",
              " {'品詞': '動詞', '品詞1': '自立', '基本形': 'できる', '表層形': 'でき'},\n",
              " {'品詞': '助動詞', '品詞1': '*', '基本形': 'ます', '表層形': 'ます'},\n",
              " {'品詞': '記号', '品詞1': '句点', '基本形': '。', '表層形': '。'},\n",
              " {'品詞': '助動詞', '品詞1': '*', '基本形': 'だ', '表層形': 'で'},\n",
              " {'品詞': '助詞', '品詞1': '係助詞', '基本形': 'は', '表層形': 'は'},\n",
              " {'品詞': '副詞', '品詞1': '助詞類接続', '基本形': '早速', '表層形': '早速'},\n",
              " {'品詞': '動詞', '品詞1': '自立', '基本形': '進める', '表層形': '進め'},\n",
              " {'品詞': '助詞', '品詞1': '接続助詞', '基本形': 'て', '表層形': 'て'},\n",
              " {'品詞': '動詞', '品詞1': '非自立', '基本形': 'いく', '表層形': 'いき'},\n",
              " {'品詞': '助動詞', '品詞1': '*', '基本形': 'ます', '表層形': 'ましょ'},\n",
              " {'品詞': '助動詞', '品詞1': '*', '基本形': 'う', '表層形': 'う'},\n",
              " {'品詞': '記号', '品詞1': '句点', '基本形': '。', '表層形': '。'}]"
            ]
          },
          "metadata": {
            "tags": []
          },
          "execution_count": 22
        }
      ]
    },
    {
      "cell_type": "markdown",
      "metadata": {
        "id": "IqeFzHgcdVWN"
      },
      "source": [
        "# 8.動詞の抽出"
      ]
    },
    {
      "cell_type": "code",
      "metadata": {
        "colab": {
          "base_uri": "https://localhost:8080/"
        },
        "id": "QKgRiq-KSY6z",
        "outputId": "3ddf6e41-23f3-49be-9026-fe7f7db3cbe8"
      },
      "source": [
        "result = results[0]\n",
        "result"
      ],
      "execution_count": null,
      "outputs": [
        {
          "output_type": "execute_result",
          "data": {
            "text/plain": [
              "{'品詞': '感動詞', '品詞1': '*', '基本形': 'はじめまして', '表層形': 'はじめまして'}"
            ]
          },
          "metadata": {
            "tags": []
          },
          "execution_count": 24
        }
      ]
    },
    {
      "cell_type": "code",
      "metadata": {
        "colab": {
          "base_uri": "https://localhost:8080/"
        },
        "id": "dyc7f2OdTcV-",
        "outputId": "c4b29f39-8752-4a9f-90d9-4cb7b9d55c1e"
      },
      "source": [
        "surface_verbs = set()\n",
        "for result in results:\n",
        "    if result['品詞'] == '動詞':\n",
        "        surface_verbs.add(result['表層形'])\n",
        "\n",
        "surface_verbs"
      ],
      "execution_count": null,
      "outputs": [
        {
          "output_type": "execute_result",
          "data": {
            "text/plain": [
              "{'いき', 'する', 'でき', 'できる', '使いこなし', '学び', '学ん', '進め'}"
            ]
          },
          "metadata": {
            "tags": []
          },
          "execution_count": 25
        }
      ]
    },
    {
      "cell_type": "code",
      "metadata": {
        "colab": {
          "base_uri": "https://localhost:8080/"
        },
        "id": "a1X_sBzzUJZg",
        "outputId": "5ac24e5f-a4ed-401a-d731-bfb9b657b53c"
      },
      "source": [
        "surface_base = set()\n",
        "for result in results:\n",
        "    if result['品詞'] == '動詞':\n",
        "        surface_base.add(result['基本形'])\n",
        "\n",
        "surface_base"
      ],
      "execution_count": null,
      "outputs": [
        {
          "output_type": "execute_result",
          "data": {
            "text/plain": [
              "{'いく', 'する', 'できる', '使いこなす', '学ぶ', '進める'}"
            ]
          },
          "metadata": {
            "tags": []
          },
          "execution_count": 25
        }
      ]
    },
    {
      "cell_type": "markdown",
      "metadata": {
        "id": "Wvcdnj4YUwqt"
      },
      "source": [
        "# 9.単語の出現頻度の算出"
      ]
    },
    {
      "cell_type": "code",
      "metadata": {
        "id": "k5humCIDU4cu"
      },
      "source": [
        "from collections import defaultdict"
      ],
      "execution_count": null,
      "outputs": []
    },
    {
      "cell_type": "code",
      "metadata": {
        "colab": {
          "base_uri": "https://localhost:8080/"
        },
        "id": "YFAhV7PTVCfy",
        "outputId": "b2af23c7-d74a-45b6-b6f2-465fc1e2b154"
      },
      "source": [
        "word_freq = defaultdict(int)\n",
        "\n",
        "for result in results:\n",
        "    if result['品詞'] != '記号':\n",
        "        word_freq[result['基本形']] += 1 \n",
        "word_freq"
      ],
      "execution_count": null,
      "outputs": [
        {
          "output_type": "execute_result",
          "data": {
            "text/plain": [
              "defaultdict(int,\n",
              "            {'*': 2,\n",
              "             'いく': 2,\n",
              "             'いま': 1,\n",
              "             'う': 2,\n",
              "             'が': 2,\n",
              "             'こちら': 1,\n",
              "             'こと': 2,\n",
              "             'する': 1,\n",
              "             'だ': 2,\n",
              "             'て': 2,\n",
              "             'で': 3,\n",
              "             'できる': 2,\n",
              "             'です': 1,\n",
              "             'に': 4,\n",
              "             'について': 1,\n",
              "             'は': 3,\n",
              "             'はじめまして': 1,\n",
              "             'ます': 4,\n",
              "             'よう': 1,\n",
              "             'を': 2,\n",
              "             'チャンネル': 1,\n",
              "             'ライブラリ': 1,\n",
              "             '一緒': 1,\n",
              "             '使いこなす': 1,\n",
              "             '処理': 1,\n",
              "             '分析': 1,\n",
              "             '学ぶ': 2,\n",
              "             '手軽': 1,\n",
              "             '早速': 1,\n",
              "             '本': 1,\n",
              "             '様々': 1,\n",
              "             '活用': 1,\n",
              "             '特に': 1,\n",
              "             '自然': 1,\n",
              "             '色んな': 1,\n",
              "             '言語': 1,\n",
              "             '講義': 1,\n",
              "             '進める': 1})"
            ]
          },
          "metadata": {
            "tags": []
          },
          "execution_count": 27
        }
      ]
    },
    {
      "cell_type": "markdown",
      "metadata": {
        "id": "6C4JDWS_W4VR"
      },
      "source": [
        "# 10.頻出順に並び替え"
      ]
    },
    {
      "cell_type": "code",
      "metadata": {
        "colab": {
          "base_uri": "https://localhost:8080/"
        },
        "id": "obl2hnxKW9GL",
        "outputId": "853e6b9d-6b4f-4c4e-b21c-edb30ca076a3"
      },
      "source": [
        "! pip install japanize_matplotlib"
      ],
      "execution_count": null,
      "outputs": [
        {
          "output_type": "stream",
          "text": [
            "Collecting japanize_matplotlib\n",
            "\u001b[?25l  Downloading https://files.pythonhosted.org/packages/aa/85/08a4b7fe8987582d99d9bb7ad0ff1ec75439359a7f9690a0dbf2dbf98b15/japanize-matplotlib-1.1.3.tar.gz (4.1MB)\n",
            "\u001b[K     |████████████████████████████████| 4.1MB 3.8MB/s \n",
            "\u001b[?25hRequirement already satisfied: matplotlib in /usr/local/lib/python3.7/dist-packages (from japanize_matplotlib) (3.2.2)\n",
            "Requirement already satisfied: numpy>=1.11 in /usr/local/lib/python3.7/dist-packages (from matplotlib->japanize_matplotlib) (1.19.5)\n",
            "Requirement already satisfied: kiwisolver>=1.0.1 in /usr/local/lib/python3.7/dist-packages (from matplotlib->japanize_matplotlib) (1.3.1)\n",
            "Requirement already satisfied: pyparsing!=2.0.4,!=2.1.2,!=2.1.6,>=2.0.1 in /usr/local/lib/python3.7/dist-packages (from matplotlib->japanize_matplotlib) (2.4.7)\n",
            "Requirement already satisfied: python-dateutil>=2.1 in /usr/local/lib/python3.7/dist-packages (from matplotlib->japanize_matplotlib) (2.8.1)\n",
            "Requirement already satisfied: cycler>=0.10 in /usr/local/lib/python3.7/dist-packages (from matplotlib->japanize_matplotlib) (0.10.0)\n",
            "Requirement already satisfied: six>=1.5 in /usr/local/lib/python3.7/dist-packages (from python-dateutil>=2.1->matplotlib->japanize_matplotlib) (1.15.0)\n",
            "Building wheels for collected packages: japanize-matplotlib\n",
            "  Building wheel for japanize-matplotlib (setup.py) ... \u001b[?25l\u001b[?25hdone\n",
            "  Created wheel for japanize-matplotlib: filename=japanize_matplotlib-1.1.3-cp37-none-any.whl size=4120276 sha256=7b947b3e5a5328f3011ebd6157c0a39d4799d497faa1ec893a2fa303bfab69d5\n",
            "  Stored in directory: /root/.cache/pip/wheels/b7/d9/a2/f907d50b32a2d2008ce5d691d30fb6569c2c93eefcfde55202\n",
            "Successfully built japanize-matplotlib\n",
            "Installing collected packages: japanize-matplotlib\n",
            "Successfully installed japanize-matplotlib-1.1.3\n"
          ],
          "name": "stdout"
        }
      ]
    },
    {
      "cell_type": "code",
      "metadata": {
        "id": "G1ni6BVJXIqM"
      },
      "source": [
        "import matplotlib.pyplot as plt\n",
        "import japanize_matplotlib"
      ],
      "execution_count": null,
      "outputs": []
    },
    {
      "cell_type": "code",
      "metadata": {
        "id": "2Xqy3Da-XWrd"
      },
      "source": [
        "%matplotlib inline"
      ],
      "execution_count": null,
      "outputs": []
    },
    {
      "cell_type": "code",
      "metadata": {
        "colab": {
          "base_uri": "https://localhost:8080/"
        },
        "id": "MIDMZ3yjXcbe",
        "outputId": "152be404-36d9-4c88-a02b-b9db91228b70"
      },
      "source": [
        "word_freq"
      ],
      "execution_count": null,
      "outputs": [
        {
          "output_type": "execute_result",
          "data": {
            "text/plain": [
              "defaultdict(int,\n",
              "            {'*': 2,\n",
              "             'いく': 2,\n",
              "             'いま': 1,\n",
              "             'う': 2,\n",
              "             'が': 2,\n",
              "             'こちら': 1,\n",
              "             'こと': 2,\n",
              "             'する': 1,\n",
              "             'だ': 2,\n",
              "             'て': 2,\n",
              "             'で': 3,\n",
              "             'できる': 2,\n",
              "             'です': 1,\n",
              "             'に': 4,\n",
              "             'について': 1,\n",
              "             'は': 3,\n",
              "             'はじめまして': 1,\n",
              "             'ます': 4,\n",
              "             'よう': 1,\n",
              "             'を': 2,\n",
              "             'チャンネル': 1,\n",
              "             'ライブラリ': 1,\n",
              "             '一緒': 1,\n",
              "             '使いこなす': 1,\n",
              "             '処理': 1,\n",
              "             '分析': 1,\n",
              "             '学ぶ': 2,\n",
              "             '手軽': 1,\n",
              "             '早速': 1,\n",
              "             '本': 1,\n",
              "             '様々': 1,\n",
              "             '活用': 1,\n",
              "             '特に': 1,\n",
              "             '自然': 1,\n",
              "             '色んな': 1,\n",
              "             '言語': 1,\n",
              "             '講義': 1,\n",
              "             '進める': 1})"
            ]
          },
          "metadata": {
            "tags": []
          },
          "execution_count": 31
        }
      ]
    },
    {
      "cell_type": "code",
      "metadata": {
        "colab": {
          "base_uri": "https://localhost:8080/"
        },
        "id": "KZIsC3s7Xfs8",
        "outputId": "3984f74b-2112-41c0-c3f7-c80b97e19f89"
      },
      "source": [
        "word_freq.items()"
      ],
      "execution_count": null,
      "outputs": [
        {
          "output_type": "execute_result",
          "data": {
            "text/plain": [
              "dict_items([('はじめまして', 1), ('こちら', 1), ('は', 3), ('いま', 1), ('に', 4), ('*', 2), ('チャンネル', 1), ('です', 1), ('を', 2), ('使いこなす', 1), ('て', 2), ('色んな', 1), ('こと', 2), ('が', 2), ('できる', 2), ('よう', 1), ('一緒', 1), ('学ぶ', 2), ('で', 3), ('いく', 2), ('ます', 4), ('う', 2), ('本', 1), ('講義', 1), ('特に', 1), ('自然', 1), ('言語', 1), ('処理', 1), ('について', 1), ('様々', 1), ('だ', 2), ('ライブラリ', 1), ('活用', 1), ('する', 1), ('手軽', 1), ('分析', 1), ('早速', 1), ('進める', 1)])"
            ]
          },
          "metadata": {
            "tags": []
          },
          "execution_count": 32
        }
      ]
    },
    {
      "cell_type": "code",
      "metadata": {
        "colab": {
          "base_uri": "https://localhost:8080/"
        },
        "id": "3ggPcQWIX4r8",
        "outputId": "8736501c-45ec-4e0a-8b5f-33eedd2010d4"
      },
      "source": [
        "sorted_work_freq = sorted(word_freq.items(), key = lambda x:x[1], reverse=True)\n",
        "sorted_work_freq"
      ],
      "execution_count": null,
      "outputs": [
        {
          "output_type": "execute_result",
          "data": {
            "text/plain": [
              "[('に', 4),\n",
              " ('ます', 4),\n",
              " ('は', 3),\n",
              " ('で', 3),\n",
              " ('*', 2),\n",
              " ('を', 2),\n",
              " ('て', 2),\n",
              " ('こと', 2),\n",
              " ('が', 2),\n",
              " ('できる', 2),\n",
              " ('学ぶ', 2),\n",
              " ('いく', 2),\n",
              " ('う', 2),\n",
              " ('だ', 2),\n",
              " ('はじめまして', 1),\n",
              " ('こちら', 1),\n",
              " ('いま', 1),\n",
              " ('チャンネル', 1),\n",
              " ('です', 1),\n",
              " ('使いこなす', 1),\n",
              " ('色んな', 1),\n",
              " ('よう', 1),\n",
              " ('一緒', 1),\n",
              " ('本', 1),\n",
              " ('講義', 1),\n",
              " ('特に', 1),\n",
              " ('自然', 1),\n",
              " ('言語', 1),\n",
              " ('処理', 1),\n",
              " ('について', 1),\n",
              " ('様々', 1),\n",
              " ('ライブラリ', 1),\n",
              " ('活用', 1),\n",
              " ('する', 1),\n",
              " ('手軽', 1),\n",
              " ('分析', 1),\n",
              " ('早速', 1),\n",
              " ('進める', 1)]"
            ]
          },
          "metadata": {
            "tags": []
          },
          "execution_count": 33
        }
      ]
    },
    {
      "cell_type": "code",
      "metadata": {
        "colab": {
          "base_uri": "https://localhost:8080/"
        },
        "id": "DHCg2Q6KYcUT",
        "outputId": "522a90ad-a14c-40ea-f259-34fc3c2de1c9"
      },
      "source": [
        "sorted_work_freq[:10]"
      ],
      "execution_count": null,
      "outputs": [
        {
          "output_type": "execute_result",
          "data": {
            "text/plain": [
              "[('に', 4),\n",
              " ('ます', 4),\n",
              " ('は', 3),\n",
              " ('で', 3),\n",
              " ('*', 2),\n",
              " ('を', 2),\n",
              " ('て', 2),\n",
              " ('こと', 2),\n",
              " ('が', 2),\n",
              " ('できる', 2)]"
            ]
          },
          "metadata": {
            "tags": []
          },
          "execution_count": 34
        }
      ]
    },
    {
      "cell_type": "code",
      "metadata": {
        "id": "TAuaS12vaIkM"
      },
      "source": [
        "# 内包表記\n",
        "keys = [_[0] for _ in sorted_work_freq[:10]]\n",
        "values = [_[1] for _ in sorted_work_freq[:10]]"
      ],
      "execution_count": null,
      "outputs": []
    },
    {
      "cell_type": "code",
      "metadata": {
        "colab": {
          "base_uri": "https://localhost:8080/",
          "height": 264
        },
        "id": "uz4VjtJRavpJ",
        "outputId": "ac0d1391-1128-47ee-e7f1-7180e314cb2c"
      },
      "source": [
        "plt.figure(figsize = (8,4))\n",
        "plt.bar(keys, values)\n",
        "plt.show()"
      ],
      "execution_count": null,
      "outputs": [
        {
          "output_type": "display_data",
          "data": {
            "image/png": "[encoded data removed]",
            "text/plain": [
              "<Figure size 576x288 with 1 Axes>"
            ]
          },
          "metadata": {
            "tags": [],
            "needs_background": "light"
          }
        }
      ]
    },
    {
      "cell_type": "markdown",
      "metadata": {
        "id": "CTHJM8c8bDIy"
      },
      "source": [
        "# 11.ヒストグラムで可視化"
      ]
    },
    {
      "cell_type": "code",
      "metadata": {
        "id": "H-QFSjFMbZnG"
      },
      "source": [
        "values = word_freq.values()"
      ],
      "execution_count": null,
      "outputs": []
    },
    {
      "cell_type": "code",
      "metadata": {
        "colab": {
          "base_uri": "https://localhost:8080/",
          "height": 279
        },
        "id": "2ofD3QC_bpQA",
        "outputId": "50bf4b65-6d45-497b-b266-a822e4a24e2f"
      },
      "source": [
        "plt.figure(figsize=(8,4))\n",
        "plt.hist(values, bins = 100)\n",
        "plt.xlabel('出現回数')\n",
        "plt.xlabel('単語の種類数')\n",
        "plt.xlim(0, 5)\n",
        "plt.show()"
      ],
      "execution_count": null,
      "outputs": [
        {
          "output_type": "display_data",
          "data": {
            "image/png": "[encoded data removed]",
            "text/plain": [
              "<Figure size 576x288 with 1 Axes>"
            ]
          },
          "metadata": {
            "tags": [],
            "needs_background": "light"
          }
        }
      ]
    },
    {
      "cell_type": "markdown",
      "metadata": {
        "id": "2zmK2h1es-1B"
      },
      "source": [
        "# 12.N-gram(文字単位)"
      ]
    },
    {
      "cell_type": "code",
      "metadata": {
        "id": "maO4xLq3t-Sc"
      },
      "source": [
        "txt = '今日は晴れです。'"
      ],
      "execution_count": null,
      "outputs": []
    },
    {
      "cell_type": "code",
      "metadata": {
        "colab": {
          "base_uri": "https://localhost:8080/"
        },
        "id": "PxOZTNpDzai-",
        "outputId": "22955aa2-8a39-42b4-cb20-f8aebc102b09"
      },
      "source": [
        "# i = 0\n",
        "for i in range(len(txt)-1):\n",
        "    print(txt[i:i+2])"
      ],
      "execution_count": null,
      "outputs": [
        {
          "output_type": "stream",
          "text": [
            "今日\n",
            "日は\n",
            "は晴\n",
            "晴れ\n",
            "れで\n",
            "です\n",
            "す。\n"
          ],
          "name": "stdout"
        }
      ]
    },
    {
      "cell_type": "code",
      "metadata": {
        "colab": {
          "base_uri": "https://localhost:8080/",
          "height": 35
        },
        "id": "Mj84w0z4wy67",
        "outputId": "a3982a37-2784-435c-c2d2-1a5130b4ddb0"
      },
      "source": [
        "txt[0:0+2]"
      ],
      "execution_count": null,
      "outputs": [
        {
          "output_type": "execute_result",
          "data": {
            "application/vnd.google.colaboratory.intrinsic+json": {
              "type": "string"
            },
            "text/plain": [
              "'今日'"
            ]
          },
          "metadata": {
            "tags": []
          },
          "execution_count": 41
        }
      ]
    },
    {
      "cell_type": "code",
      "metadata": {
        "colab": {
          "base_uri": "https://localhost:8080/",
          "height": 35
        },
        "id": "44D84kuew5oB",
        "outputId": "a78f80b3-abba-45a1-af24-01bbe0f3980e"
      },
      "source": [
        "txt[1:1+2]"
      ],
      "execution_count": null,
      "outputs": [
        {
          "output_type": "execute_result",
          "data": {
            "application/vnd.google.colaboratory.intrinsic+json": {
              "type": "string"
            },
            "text/plain": [
              "'日は'"
            ]
          },
          "metadata": {
            "tags": []
          },
          "execution_count": 42
        }
      ]
    },
    {
      "cell_type": "markdown",
      "metadata": {
        "id": "a9Mi3ASO1lHQ"
      },
      "source": [
        "# 13.N-gram(単語単位)"
      ]
    },
    {
      "cell_type": "code",
      "metadata": {
        "id": "GcXdw4zG1sKR"
      },
      "source": [
        "txt = 'Pythonを一緒に学びましょう。'"
      ],
      "execution_count": null,
      "outputs": []
    },
    {
      "cell_type": "code",
      "metadata": {
        "colab": {
          "base_uri": "https://localhost:8080/",
          "height": 35
        },
        "id": "eUa7dYV62Pfj",
        "outputId": "16b2ccb0-c7e1-4c93-b7e8-09823096ac32"
      },
      "source": [
        "tagger = MeCab.Tagger('-Owakati')\n",
        "tagger.parse(txt)"
      ],
      "execution_count": null,
      "outputs": [
        {
          "output_type": "execute_result",
          "data": {
            "application/vnd.google.colaboratory.intrinsic+json": {
              "type": "string"
            },
            "text/plain": [
              "'Python を 一緒 に 学び ましょ う 。 \\n'"
            ]
          },
          "metadata": {
            "tags": []
          },
          "execution_count": 44
        }
      ]
    },
    {
      "cell_type": "code",
      "metadata": {
        "colab": {
          "base_uri": "https://localhost:8080/"
        },
        "id": "H_yNkURMNU3L",
        "outputId": "bf341925-9ef2-4fe6-9ab4-cf0f2b348a2a"
      },
      "source": [
        "words = tagger.parse(txt).split(' ')[:-1]\n",
        "words"
      ],
      "execution_count": null,
      "outputs": [
        {
          "output_type": "execute_result",
          "data": {
            "text/plain": [
              "['Python', 'を', '一緒', 'に', '学び', 'ましょ', 'う', '。']"
            ]
          },
          "metadata": {
            "tags": []
          },
          "execution_count": 45
        }
      ]
    },
    {
      "cell_type": "code",
      "metadata": {
        "colab": {
          "base_uri": "https://localhost:8080/"
        },
        "id": "w2ZAeUSoPr5S",
        "outputId": "6272edff-1f4b-495d-b765-c88a604159f4"
      },
      "source": [
        "# tri-gram\n",
        "for i in range(len(words)-1):\n",
        "    print(\"\".join(words[i:i+3]))"
      ],
      "execution_count": null,
      "outputs": [
        {
          "output_type": "stream",
          "text": [
            "Pythonを一緒\n",
            "を一緒に\n",
            "一緒に学び\n",
            "に学びましょ\n",
            "学びましょう\n",
            "ましょう。\n",
            "う。\n"
          ],
          "name": "stdout"
        }
      ]
    },
    {
      "cell_type": "markdown",
      "metadata": {
        "id": "pjYjB5-jPoVI"
      },
      "source": [
        "# 14.N-gramの関数化"
      ]
    },
    {
      "cell_type": "code",
      "metadata": {
        "id": "I_BstIncAH9d"
      },
      "source": [
        "def ngram(text, n):\n",
        "    return [text[i:i+n] for i in range(len(text)-n-1)]"
      ],
      "execution_count": null,
      "outputs": []
    },
    {
      "cell_type": "code",
      "metadata": {
        "id": "m44Vz7rnAyMB"
      },
      "source": [
        "txt = 'Pythonを一緒に学びましょう。'\n",
        "words = tagger.parse(txt).split(' ')[:-1]"
      ],
      "execution_count": null,
      "outputs": []
    },
    {
      "cell_type": "code",
      "metadata": {
        "colab": {
          "base_uri": "https://localhost:8080/"
        },
        "id": "lFQ5oC8_A9pm",
        "outputId": "580f1611-8880-41b9-b748-5119ed5d950a"
      },
      "source": [
        "words"
      ],
      "execution_count": null,
      "outputs": [
        {
          "output_type": "execute_result",
          "data": {
            "text/plain": [
              "['Python', 'を', '一緒', 'に', '学び', 'ましょ', 'う', '。']"
            ]
          },
          "metadata": {
            "tags": []
          },
          "execution_count": 52
        }
      ]
    },
    {
      "cell_type": "markdown",
      "metadata": {
        "id": "LyjG7_dhSf6w"
      },
      "source": [
        "- 文字単位"
      ]
    },
    {
      "cell_type": "code",
      "metadata": {
        "colab": {
          "base_uri": "https://localhost:8080/"
        },
        "id": "yQgvgA1TE3qc",
        "outputId": "3beee33c-fc7e-4795-b8be-d320b3b20e48"
      },
      "source": [
        "ngram(txt, 4)"
      ],
      "execution_count": null,
      "outputs": [
        {
          "output_type": "execute_result",
          "data": {
            "text/plain": [
              "['Pyth',\n",
              " 'ytho',\n",
              " 'thon',\n",
              " 'honを',\n",
              " 'onを一',\n",
              " 'nを一緒',\n",
              " 'を一緒に',\n",
              " '一緒に学',\n",
              " '緒に学び',\n",
              " 'に学びま',\n",
              " '学びまし',\n",
              " 'びましょ']"
            ]
          },
          "metadata": {
            "tags": []
          },
          "execution_count": 56
        }
      ]
    },
    {
      "cell_type": "markdown",
      "metadata": {
        "id": "94LjT9kQFGTf"
      },
      "source": [
        "- 単語単位"
      ]
    },
    {
      "cell_type": "code",
      "metadata": {
        "id": "UNwPQK9RBCFW",
        "colab": {
          "base_uri": "https://localhost:8080/"
        },
        "outputId": "2ec0c97c-bfa7-4df7-9c76-2a37863a7cf9"
      },
      "source": [
        "ngram(words, 4)"
      ],
      "execution_count": null,
      "outputs": [
        {
          "output_type": "execute_result",
          "data": {
            "text/plain": [
              "[['Python', 'を', '一緒', 'に'], ['を', '一緒', 'に', '学び'], ['一緒', 'に', '学び', 'ましょ']]"
            ]
          },
          "metadata": {
            "tags": []
          },
          "execution_count": 51
        }
      ]
    },
    {
      "cell_type": "markdown",
      "metadata": {
        "id": "RFYuJy92BSHi"
      },
      "source": [
        "# 15.単語ベクトルの読み込み"
      ]
    },
    {
      "cell_type": "code",
      "metadata": {
        "colab": {
          "base_uri": "https://localhost:8080/"
        },
        "id": "j8Qd4urzIkyh",
        "outputId": "a4a214fc-eb3c-4493-f94e-fbd0c37dbd7d"
      },
      "source": [
        "! pip install gensim"
      ],
      "execution_count": null,
      "outputs": [
        {
          "output_type": "stream",
          "text": [
            "Requirement already satisfied: gensim in /usr/local/lib/python3.7/dist-packages (3.6.0)\n",
            "Requirement already satisfied: six>=1.5.0 in /usr/local/lib/python3.7/dist-packages (from gensim) (1.15.0)\n",
            "Requirement already satisfied: smart-open>=1.2.1 in /usr/local/lib/python3.7/dist-packages (from gensim) (5.0.0)\n",
            "Requirement already satisfied: numpy>=1.11.3 in /usr/local/lib/python3.7/dist-packages (from gensim) (1.19.5)\n",
            "Requirement already satisfied: scipy>=0.18.1 in /usr/local/lib/python3.7/dist-packages (from gensim) (1.4.1)\n"
          ],
          "name": "stdout"
        }
      ]
    },
    {
      "cell_type": "code",
      "metadata": {
        "id": "8oq5SXSUBdHz",
        "colab": {
          "base_uri": "https://localhost:8080/"
        },
        "outputId": "e17f4e75-4a33-46b0-ca00-e99ae378f800"
      },
      "source": [
        "# Google newsデータセットの学習モデルを読み込み\n",
        "FILE_ID = \"0B7XkCwpI5KDYNlNUTTlSS21pQmM\"\n",
        "FILE_NAME = \"GoogleNews-vectors-negative300.bin.gz\"\n",
        "!wget --load-cookies /tmp/cookies.txt \"https://docs.google.com/uc?export=download&confirm=$(wget --quiet --save-cookies /tmp/cookies.txt --keep-session-cookies --no-check-certificate 'https://docs.google.com/uc?export=download&id=$FILE_ID' -O- | sed -rn 's/.*confirm=([0-9A-Za-z_]+).*/\\1\\n/p')&id=$FILE_ID\" -O $FILE_NAME && rm -rf /tmp/cookies.txt"
      ],
      "execution_count": null,
      "outputs": [
        {
          "output_type": "stream",
          "text": [
            "--2021-05-23 07:31:36--  https://docs.google.com/uc?export=download&confirm=&id=0B7XkCwpI5KDYNlNUTTlSS21pQmM\n",
            "Resolving docs.google.com (docs.google.com)... 108.177.11.102, 108.177.11.100, 108.177.11.101, ...\n",
            "Connecting to docs.google.com (docs.google.com)|108.177.11.102|:443... connected.\n",
            "HTTP request sent, awaiting response... 200 OK\n",
            "Length: unspecified [text/html]\n",
            "Saving to: ‘GoogleNews-vectors-negative300.bin.gz’\n",
            "\n",
            "GoogleNews-vectors-     [ <=>                ]   3.05K  --.-KB/s    in 0s      \n",
            "\n",
            "2021-05-23 07:31:37 (51.1 MB/s) - ‘GoogleNews-vectors-negative300.bin.gz’ saved [3122]\n",
            "\n"
          ],
          "name": "stdout"
        }
      ]
    },
    {
      "cell_type": "code",
      "metadata": {
        "id": "RZfTwoLEB7gq"
      },
      "source": [
        "from gensim.models import KeyedVectors"
      ],
      "execution_count": null,
      "outputs": []
    },
    {
      "cell_type": "code",
      "metadata": {
        "id": "1zGWr_BIEN8F",
        "colab": {
          "base_uri": "https://localhost:8080/",
          "height": 336
        },
        "outputId": "1629f4ca-0a3e-4c26-f2f2-8a48a37cd378"
      },
      "source": [
        "model = KeyedVectors.load_word2vec_format('/content/GoogleNews-vectors-negative300.bin.gz', binary=True)"
      ],
      "execution_count": null,
      "outputs": [
        {
          "output_type": "error",
          "ename": "OSError",
          "evalue": "ignored",
          "traceback": [
            "\u001b[0;31m---------------------------------------------------------------------------\u001b[0m",
            "\u001b[0;31mOSError\u001b[0m                                   Traceback (most recent call last)",
            "\u001b[0;32m<ipython-input-99-e3c3e0db66bd>\u001b[0m in \u001b[0;36m<module>\u001b[0;34m()\u001b[0m\n\u001b[0;32m----> 1\u001b[0;31m \u001b[0mmodel\u001b[0m \u001b[0;34m=\u001b[0m \u001b[0mKeyedVectors\u001b[0m\u001b[0;34m.\u001b[0m\u001b[0mload_word2vec_format\u001b[0m\u001b[0;34m(\u001b[0m\u001b[0;34m'/content/GoogleNews-vectors-negative300.bin.gz'\u001b[0m\u001b[0;34m,\u001b[0m \u001b[0mbinary\u001b[0m\u001b[0;34m=\u001b[0m\u001b[0;32mTrue\u001b[0m\u001b[0;34m)\u001b[0m\u001b[0;34m\u001b[0m\u001b[0;34m\u001b[0m\u001b[0m\n\u001b[0m",
            "\u001b[0;32m/usr/local/lib/python3.7/dist-packages/gensim/models/keyedvectors.py\u001b[0m in \u001b[0;36mload_word2vec_format\u001b[0;34m(cls, fname, fvocab, binary, encoding, unicode_errors, limit, datatype)\u001b[0m\n\u001b[1;32m   1436\u001b[0m         return _load_word2vec_format(\n\u001b[1;32m   1437\u001b[0m             \u001b[0mcls\u001b[0m\u001b[0;34m,\u001b[0m \u001b[0mfname\u001b[0m\u001b[0;34m,\u001b[0m \u001b[0mfvocab\u001b[0m\u001b[0;34m=\u001b[0m\u001b[0mfvocab\u001b[0m\u001b[0;34m,\u001b[0m \u001b[0mbinary\u001b[0m\u001b[0;34m=\u001b[0m\u001b[0mbinary\u001b[0m\u001b[0;34m,\u001b[0m \u001b[0mencoding\u001b[0m\u001b[0;34m=\u001b[0m\u001b[0mencoding\u001b[0m\u001b[0;34m,\u001b[0m \u001b[0municode_errors\u001b[0m\u001b[0;34m=\u001b[0m\u001b[0municode_errors\u001b[0m\u001b[0;34m,\u001b[0m\u001b[0;34m\u001b[0m\u001b[0;34m\u001b[0m\u001b[0m\n\u001b[0;32m-> 1438\u001b[0;31m             limit=limit, datatype=datatype)\n\u001b[0m\u001b[1;32m   1439\u001b[0m \u001b[0;34m\u001b[0m\u001b[0m\n\u001b[1;32m   1440\u001b[0m     \u001b[0;32mdef\u001b[0m \u001b[0mget_keras_embedding\u001b[0m\u001b[0;34m(\u001b[0m\u001b[0mself\u001b[0m\u001b[0;34m,\u001b[0m \u001b[0mtrain_embeddings\u001b[0m\u001b[0;34m=\u001b[0m\u001b[0;32mFalse\u001b[0m\u001b[0;34m)\u001b[0m\u001b[0;34m:\u001b[0m\u001b[0;34m\u001b[0m\u001b[0;34m\u001b[0m\u001b[0m\n",
            "\u001b[0;32m/usr/local/lib/python3.7/dist-packages/gensim/models/utils_any2vec.py\u001b[0m in \u001b[0;36m_load_word2vec_format\u001b[0;34m(cls, fname, fvocab, binary, encoding, unicode_errors, limit, datatype)\u001b[0m\n\u001b[1;32m    170\u001b[0m     \u001b[0mlogger\u001b[0m\u001b[0;34m.\u001b[0m\u001b[0minfo\u001b[0m\u001b[0;34m(\u001b[0m\u001b[0;34m\"loading projection weights from %s\"\u001b[0m\u001b[0;34m,\u001b[0m \u001b[0mfname\u001b[0m\u001b[0;34m)\u001b[0m\u001b[0;34m\u001b[0m\u001b[0;34m\u001b[0m\u001b[0m\n\u001b[1;32m    171\u001b[0m     \u001b[0;32mwith\u001b[0m \u001b[0mutils\u001b[0m\u001b[0;34m.\u001b[0m\u001b[0msmart_open\u001b[0m\u001b[0;34m(\u001b[0m\u001b[0mfname\u001b[0m\u001b[0;34m)\u001b[0m \u001b[0;32mas\u001b[0m \u001b[0mfin\u001b[0m\u001b[0;34m:\u001b[0m\u001b[0;34m\u001b[0m\u001b[0;34m\u001b[0m\u001b[0m\n\u001b[0;32m--> 172\u001b[0;31m         \u001b[0mheader\u001b[0m \u001b[0;34m=\u001b[0m \u001b[0mutils\u001b[0m\u001b[0;34m.\u001b[0m\u001b[0mto_unicode\u001b[0m\u001b[0;34m(\u001b[0m\u001b[0mfin\u001b[0m\u001b[0;34m.\u001b[0m\u001b[0mreadline\u001b[0m\u001b[0;34m(\u001b[0m\u001b[0;34m)\u001b[0m\u001b[0;34m,\u001b[0m \u001b[0mencoding\u001b[0m\u001b[0;34m=\u001b[0m\u001b[0mencoding\u001b[0m\u001b[0;34m)\u001b[0m\u001b[0;34m\u001b[0m\u001b[0;34m\u001b[0m\u001b[0m\n\u001b[0m\u001b[1;32m    173\u001b[0m         \u001b[0mvocab_size\u001b[0m\u001b[0;34m,\u001b[0m \u001b[0mvector_size\u001b[0m \u001b[0;34m=\u001b[0m \u001b[0;34m(\u001b[0m\u001b[0mint\u001b[0m\u001b[0;34m(\u001b[0m\u001b[0mx\u001b[0m\u001b[0;34m)\u001b[0m \u001b[0;32mfor\u001b[0m \u001b[0mx\u001b[0m \u001b[0;32min\u001b[0m \u001b[0mheader\u001b[0m\u001b[0;34m.\u001b[0m\u001b[0msplit\u001b[0m\u001b[0;34m(\u001b[0m\u001b[0;34m)\u001b[0m\u001b[0;34m)\u001b[0m  \u001b[0;31m# throws for invalid file format\u001b[0m\u001b[0;34m\u001b[0m\u001b[0;34m\u001b[0m\u001b[0m\n\u001b[1;32m    174\u001b[0m         \u001b[0;32mif\u001b[0m \u001b[0mlimit\u001b[0m\u001b[0;34m:\u001b[0m\u001b[0;34m\u001b[0m\u001b[0;34m\u001b[0m\u001b[0m\n",
            "\u001b[0;32m/usr/lib/python3.7/gzip.py\u001b[0m in \u001b[0;36mreadline\u001b[0;34m(self, size)\u001b[0m\n\u001b[1;32m    383\u001b[0m     \u001b[0;32mdef\u001b[0m \u001b[0mreadline\u001b[0m\u001b[0;34m(\u001b[0m\u001b[0mself\u001b[0m\u001b[0;34m,\u001b[0m \u001b[0msize\u001b[0m\u001b[0;34m=\u001b[0m\u001b[0;34m-\u001b[0m\u001b[0;36m1\u001b[0m\u001b[0;34m)\u001b[0m\u001b[0;34m:\u001b[0m\u001b[0;34m\u001b[0m\u001b[0;34m\u001b[0m\u001b[0m\n\u001b[1;32m    384\u001b[0m         \u001b[0mself\u001b[0m\u001b[0;34m.\u001b[0m\u001b[0m_check_not_closed\u001b[0m\u001b[0;34m(\u001b[0m\u001b[0;34m)\u001b[0m\u001b[0;34m\u001b[0m\u001b[0;34m\u001b[0m\u001b[0m\n\u001b[0;32m--> 385\u001b[0;31m         \u001b[0;32mreturn\u001b[0m \u001b[0mself\u001b[0m\u001b[0;34m.\u001b[0m\u001b[0m_buffer\u001b[0m\u001b[0;34m.\u001b[0m\u001b[0mreadline\u001b[0m\u001b[0;34m(\u001b[0m\u001b[0msize\u001b[0m\u001b[0;34m)\u001b[0m\u001b[0;34m\u001b[0m\u001b[0;34m\u001b[0m\u001b[0m\n\u001b[0m\u001b[1;32m    386\u001b[0m \u001b[0;34m\u001b[0m\u001b[0m\n\u001b[1;32m    387\u001b[0m \u001b[0;34m\u001b[0m\u001b[0m\n",
            "\u001b[0;32m/usr/lib/python3.7/_compression.py\u001b[0m in \u001b[0;36mreadinto\u001b[0;34m(self, b)\u001b[0m\n\u001b[1;32m     66\u001b[0m     \u001b[0;32mdef\u001b[0m \u001b[0mreadinto\u001b[0m\u001b[0;34m(\u001b[0m\u001b[0mself\u001b[0m\u001b[0;34m,\u001b[0m \u001b[0mb\u001b[0m\u001b[0;34m)\u001b[0m\u001b[0;34m:\u001b[0m\u001b[0;34m\u001b[0m\u001b[0;34m\u001b[0m\u001b[0m\n\u001b[1;32m     67\u001b[0m         \u001b[0;32mwith\u001b[0m \u001b[0mmemoryview\u001b[0m\u001b[0;34m(\u001b[0m\u001b[0mb\u001b[0m\u001b[0;34m)\u001b[0m \u001b[0;32mas\u001b[0m \u001b[0mview\u001b[0m\u001b[0;34m,\u001b[0m \u001b[0mview\u001b[0m\u001b[0;34m.\u001b[0m\u001b[0mcast\u001b[0m\u001b[0;34m(\u001b[0m\u001b[0;34m\"B\"\u001b[0m\u001b[0;34m)\u001b[0m \u001b[0;32mas\u001b[0m \u001b[0mbyte_view\u001b[0m\u001b[0;34m:\u001b[0m\u001b[0;34m\u001b[0m\u001b[0;34m\u001b[0m\u001b[0m\n\u001b[0;32m---> 68\u001b[0;31m             \u001b[0mdata\u001b[0m \u001b[0;34m=\u001b[0m \u001b[0mself\u001b[0m\u001b[0;34m.\u001b[0m\u001b[0mread\u001b[0m\u001b[0;34m(\u001b[0m\u001b[0mlen\u001b[0m\u001b[0;34m(\u001b[0m\u001b[0mbyte_view\u001b[0m\u001b[0;34m)\u001b[0m\u001b[0;34m)\u001b[0m\u001b[0;34m\u001b[0m\u001b[0;34m\u001b[0m\u001b[0m\n\u001b[0m\u001b[1;32m     69\u001b[0m             \u001b[0mbyte_view\u001b[0m\u001b[0;34m[\u001b[0m\u001b[0;34m:\u001b[0m\u001b[0mlen\u001b[0m\u001b[0;34m(\u001b[0m\u001b[0mdata\u001b[0m\u001b[0;34m)\u001b[0m\u001b[0;34m]\u001b[0m \u001b[0;34m=\u001b[0m \u001b[0mdata\u001b[0m\u001b[0;34m\u001b[0m\u001b[0;34m\u001b[0m\u001b[0m\n\u001b[1;32m     70\u001b[0m         \u001b[0;32mreturn\u001b[0m \u001b[0mlen\u001b[0m\u001b[0;34m(\u001b[0m\u001b[0mdata\u001b[0m\u001b[0;34m)\u001b[0m\u001b[0;34m\u001b[0m\u001b[0;34m\u001b[0m\u001b[0m\n",
            "\u001b[0;32m/usr/lib/python3.7/gzip.py\u001b[0m in \u001b[0;36mread\u001b[0;34m(self, size)\u001b[0m\n\u001b[1;32m    472\u001b[0m                 \u001b[0;31m# jump to the next member, if there is one.\u001b[0m\u001b[0;34m\u001b[0m\u001b[0;34m\u001b[0m\u001b[0;34m\u001b[0m\u001b[0m\n\u001b[1;32m    473\u001b[0m                 \u001b[0mself\u001b[0m\u001b[0;34m.\u001b[0m\u001b[0m_init_read\u001b[0m\u001b[0;34m(\u001b[0m\u001b[0;34m)\u001b[0m\u001b[0;34m\u001b[0m\u001b[0;34m\u001b[0m\u001b[0m\n\u001b[0;32m--> 474\u001b[0;31m                 \u001b[0;32mif\u001b[0m \u001b[0;32mnot\u001b[0m \u001b[0mself\u001b[0m\u001b[0;34m.\u001b[0m\u001b[0m_read_gzip_header\u001b[0m\u001b[0;34m(\u001b[0m\u001b[0;34m)\u001b[0m\u001b[0;34m:\u001b[0m\u001b[0;34m\u001b[0m\u001b[0;34m\u001b[0m\u001b[0m\n\u001b[0m\u001b[1;32m    475\u001b[0m                     \u001b[0mself\u001b[0m\u001b[0;34m.\u001b[0m\u001b[0m_size\u001b[0m \u001b[0;34m=\u001b[0m \u001b[0mself\u001b[0m\u001b[0;34m.\u001b[0m\u001b[0m_pos\u001b[0m\u001b[0;34m\u001b[0m\u001b[0;34m\u001b[0m\u001b[0m\n\u001b[1;32m    476\u001b[0m                     \u001b[0;32mreturn\u001b[0m \u001b[0;34mb\"\"\u001b[0m\u001b[0;34m\u001b[0m\u001b[0;34m\u001b[0m\u001b[0m\n",
            "\u001b[0;32m/usr/lib/python3.7/gzip.py\u001b[0m in \u001b[0;36m_read_gzip_header\u001b[0;34m(self)\u001b[0m\n\u001b[1;32m    420\u001b[0m \u001b[0;34m\u001b[0m\u001b[0m\n\u001b[1;32m    421\u001b[0m         \u001b[0;32mif\u001b[0m \u001b[0mmagic\u001b[0m \u001b[0;34m!=\u001b[0m \u001b[0;34mb'\\037\\213'\u001b[0m\u001b[0;34m:\u001b[0m\u001b[0;34m\u001b[0m\u001b[0;34m\u001b[0m\u001b[0m\n\u001b[0;32m--> 422\u001b[0;31m             \u001b[0;32mraise\u001b[0m \u001b[0mOSError\u001b[0m\u001b[0;34m(\u001b[0m\u001b[0;34m'Not a gzipped file (%r)'\u001b[0m \u001b[0;34m%\u001b[0m \u001b[0mmagic\u001b[0m\u001b[0;34m)\u001b[0m\u001b[0;34m\u001b[0m\u001b[0;34m\u001b[0m\u001b[0m\n\u001b[0m\u001b[1;32m    423\u001b[0m \u001b[0;34m\u001b[0m\u001b[0m\n\u001b[1;32m    424\u001b[0m         (method, flag,\n",
            "\u001b[0;31mOSError\u001b[0m: Not a gzipped file (b'<!')"
          ]
        }
      ]
    },
    {
      "cell_type": "code",
      "metadata": {
        "colab": {
          "base_uri": "https://localhost:8080/",
          "height": 171
        },
        "id": "2qGgOBjgEkRP",
        "outputId": "27b5ae6f-8bd2-4e94-af12-7e5b6ce1125a"
      },
      "source": [
        "model['Japan'][:50]"
      ],
      "execution_count": null,
      "outputs": [
        {
          "output_type": "error",
          "ename": "NameError",
          "evalue": "ignored",
          "traceback": [
            "\u001b[0;31m---------------------------------------------------------------------------\u001b[0m",
            "\u001b[0;31mNameError\u001b[0m                                 Traceback (most recent call last)",
            "\u001b[0;32m<ipython-input-82-6cc225b10fe0>\u001b[0m in \u001b[0;36m<module>\u001b[0;34m()\u001b[0m\n\u001b[0;32m----> 1\u001b[0;31m \u001b[0mmodel\u001b[0m\u001b[0;34m[\u001b[0m\u001b[0;34m'Japan'\u001b[0m\u001b[0;34m]\u001b[0m\u001b[0;34m[\u001b[0m\u001b[0;34m:\u001b[0m\u001b[0;36m50\u001b[0m\u001b[0;34m]\u001b[0m\u001b[0;34m\u001b[0m\u001b[0;34m\u001b[0m\u001b[0m\n\u001b[0m",
            "\u001b[0;31mNameError\u001b[0m: name 'model' is not defined"
          ]
        }
      ]
    },
    {
      "cell_type": "markdown",
      "metadata": {
        "id": "fAV9T0nGGOju"
      },
      "source": [
        "# 16.Cos類似度"
      ]
    },
    {
      "cell_type": "code",
      "metadata": {
        "colab": {
          "base_uri": "https://localhost:8080/"
        },
        "id": "zipuuDwiGlBV",
        "outputId": "eddff33e-9358-4212-dc1e-58b88cc3e8b5"
      },
      "source": [
        "model.similarity('Japan', 'Japanese')"
      ],
      "execution_count": null,
      "outputs": [
        {
          "output_type": "execute_result",
          "data": {
            "text/plain": [
              "0.7505485"
            ]
          },
          "metadata": {
            "tags": []
          },
          "execution_count": 49
        }
      ]
    },
    {
      "cell_type": "code",
      "metadata": {
        "colab": {
          "base_uri": "https://localhost:8080/"
        },
        "id": "WMREXECKG7QP",
        "outputId": "66aa6e40-c38c-4c8f-ecc6-c915f4bdbe01"
      },
      "source": [
        "model.similarity('Japan', 'Italian')"
      ],
      "execution_count": null,
      "outputs": [
        {
          "output_type": "execute_result",
          "data": {
            "text/plain": [
              "0.1946641"
            ]
          },
          "metadata": {
            "tags": []
          },
          "execution_count": 50
        }
      ]
    },
    {
      "cell_type": "markdown",
      "metadata": {
        "id": "MlWqeha2IfHx"
      },
      "source": [
        "# 17.類似度ランキング"
      ]
    },
    {
      "cell_type": "code",
      "metadata": {
        "colab": {
          "base_uri": "https://localhost:8080/"
        },
        "id": "Ly9ynkLjIkKM",
        "outputId": "15fcde88-5e7a-49ee-96eb-eacacb5649ce"
      },
      "source": [
        "ranks = model.most_similar('Japan', topn=10)\n",
        "ranks"
      ],
      "execution_count": null,
      "outputs": [
        {
          "output_type": "execute_result",
          "data": {
            "text/plain": [
              "[('Japanese', 0.7505485415458679),\n",
              " ('Japans', 0.7475504875183105),\n",
              " ('South_Korea', 0.7070896625518799),\n",
              " ('Tokyo', 0.7002254724502563),\n",
              " ('Korea', 0.6590374708175659),\n",
              " ('Japanâ_€_™', 0.6171501874923706),\n",
              " ('Kurara_Chibana', 0.6147364377975464),\n",
              " ('Shizuoka', 0.6136741638183594),\n",
              " ('holder_Ryosuke_Irie', 0.6119263172149658),\n",
              " ('Sachiko_Ito', 0.6117385625839233)]"
            ]
          },
          "metadata": {
            "tags": []
          },
          "execution_count": 51
        }
      ]
    },
    {
      "cell_type": "markdown",
      "metadata": {
        "id": "wJDidQmOI5rW"
      },
      "source": [
        "# 18.単語ベクトルの演算"
      ]
    },
    {
      "cell_type": "code",
      "metadata": {
        "id": "aNL-LfldI-vb"
      },
      "source": [
        "# model['King'] - model['male'] +model['female']"
      ],
      "execution_count": null,
      "outputs": []
    },
    {
      "cell_type": "code",
      "metadata": {
        "colab": {
          "base_uri": "https://localhost:8080/"
        },
        "id": "ghfiSJWhJGI-",
        "outputId": "d0f601b4-64c6-41c7-eeb2-64dd03cff983"
      },
      "source": [
        "model.most_similar(positive=['King', 'female'], negative =[ 'male'], topn=10)"
      ],
      "execution_count": null,
      "outputs": [
        {
          "output_type": "execute_result",
          "data": {
            "text/plain": [
              "[('Queen', 0.522716760635376),\n",
              " ('Oprah_BFF_Gayle', 0.4517025053501129),\n",
              " ('NECN_Alison', 0.4510015845298767),\n",
              " ('Geoffrey_Rush_Exit', 0.4495682120323181),\n",
              " ('Tupou_V.', 0.44818902015686035),\n",
              " ('Greene', 0.4478954076766968),\n",
              " ('gal_pal_Gayle', 0.4388653635978699),\n",
              " ('prosecutor_Dan_Satterberg', 0.43857455253601074),\n",
              " ('Jackson', 0.43747198581695557),\n",
              " ('Thailand_Bhumibol_Adulyadej', 0.43224847316741943)]"
            ]
          },
          "metadata": {
            "tags": []
          },
          "execution_count": 55
        }
      ]
    },
    {
      "cell_type": "code",
      "metadata": {
        "id": "kYW4mBXDJXRO"
      },
      "source": [
        "del ranks"
      ],
      "execution_count": null,
      "outputs": []
    },
    {
      "cell_type": "markdown",
      "metadata": {
        "id": "hyXigrrNMsNG"
      },
      "source": [
        "# 19.k-meansでクラスタリング"
      ]
    },
    {
      "cell_type": "code",
      "metadata": {
        "colab": {
          "base_uri": "https://localhost:8080/"
        },
        "id": "eTa8Ur4LMxOE",
        "outputId": "0940e402-9826-462c-bfcc-e2fd15758d5e"
      },
      "source": [
        "max_vocab = 1000\n",
        "vocab = list(model.wv.vocab.keys())[:max_vocab]\n",
        "vectors = [model.wv[word] for word in vocab]"
      ],
      "execution_count": null,
      "outputs": [
        {
          "output_type": "stream",
          "text": [
            "/usr/local/lib/python3.7/dist-packages/ipykernel_launcher.py:2: DeprecationWarning: Call to deprecated `wv` (Attribute will be removed in 4.0.0, use self instead).\n",
            "  \n",
            "/usr/local/lib/python3.7/dist-packages/ipykernel_launcher.py:3: DeprecationWarning: Call to deprecated `wv` (Attribute will be removed in 4.0.0, use self instead).\n",
            "  This is separate from the ipykernel package so we can avoid doing imports until\n"
          ],
          "name": "stderr"
        }
      ]
    },
    {
      "cell_type": "code",
      "metadata": {
        "colab": {
          "base_uri": "https://localhost:8080/"
        },
        "id": "Q1evJkdpNMR1",
        "outputId": "4ca9146d-d237-4f4d-bbc8-306dbf044f1b"
      },
      "source": [
        "from sklearn.cluster import KMeans\n",
        "\n",
        "n_clusters = 100\n",
        "kmeans_model = KMeans(n_clusters=n_clusters, verbose=1, random_state=42, n_jobs=-1)\n",
        "kmeans_model.fit(vectors)"
      ],
      "execution_count": null,
      "outputs": [
        {
          "output_type": "execute_result",
          "data": {
            "text/plain": [
              "KMeans(algorithm='auto', copy_x=True, init='k-means++', max_iter=300,\n",
              "       n_clusters=100, n_init=10, n_jobs=-1, precompute_distances='auto',\n",
              "       random_state=42, tol=0.0001, verbose=1)"
            ]
          },
          "metadata": {
            "tags": []
          },
          "execution_count": 60
        }
      ]
    },
    {
      "cell_type": "code",
      "metadata": {
        "id": "0BcVOy9FQ42E"
      },
      "source": [
        "cluster_labels = kmeans_model.labels_\n",
        "cluster_to_words = defaultdict(list)\n",
        "for cluster_id, word in zip(cluster_labels, vocab):\n",
        "    cluster_to_words[cluster_id].append(word)"
      ],
      "execution_count": null,
      "outputs": []
    },
    {
      "cell_type": "code",
      "metadata": {
        "id": "SfZECMX6MRKa"
      },
      "source": [
        "for words in cluster_to_words.values():\n",
        "  print(words[:10])"
      ],
      "execution_count": null,
      "outputs": []
    },
    {
      "cell_type": "code",
      "metadata": {
        "colab": {
          "base_uri": "https://localhost:8080/",
          "height": 171
        },
        "id": "UoIfXHvXMSZH",
        "outputId": "9b783dce-2286-4102-eadd-46452baf2f02"
      },
      "source": [
        "cluster_to_words"
      ],
      "execution_count": null,
      "outputs": [
        {
          "output_type": "error",
          "ename": "NameError",
          "evalue": "ignored",
          "traceback": [
            "\u001b[0;31m---------------------------------------------------------------------------\u001b[0m",
            "\u001b[0;31mNameError\u001b[0m                                 Traceback (most recent call last)",
            "\u001b[0;32m<ipython-input-100-00e08adb0f40>\u001b[0m in \u001b[0;36m<module>\u001b[0;34m()\u001b[0m\n\u001b[0;32m----> 1\u001b[0;31m \u001b[0mcluster_to_words\u001b[0m\u001b[0;34m\u001b[0m\u001b[0;34m\u001b[0m\u001b[0m\n\u001b[0m",
            "\u001b[0;31mNameError\u001b[0m: name 'cluster_to_words' is not defined"
          ]
        }
      ]
    },
    {
      "cell_type": "markdown",
      "metadata": {
        "id": "CFEdHE6eNYHY"
      },
      "source": [
        "# 20.t-SNEで可視化"
      ]
    },
    {
      "cell_type": "code",
      "metadata": {
        "id": "-eQLryCUNeyn"
      },
      "source": [
        "! pip install bhtsne"
      ],
      "execution_count": null,
      "outputs": []
    },
    {
      "cell_type": "code",
      "metadata": {
        "id": "4vX81cWrMUDr"
      },
      "source": [
        "import bhtsne\n",
        "import numpy as np"
      ],
      "execution_count": null,
      "outputs": []
    },
    {
      "cell_type": "code",
      "metadata": {
        "id": "TaSQrCouMT6x"
      },
      "source": [
        "embedded = bhtsne.tsne(np.array(vectors).astype(np.float64), dimensions=2, rand_seed=123)"
      ],
      "execution_count": null,
      "outputs": []
    },
    {
      "cell_type": "code",
      "metadata": {
        "id": "7snjV3WWMTvM"
      },
      "source": [
        "plt.figure(figsize=(20, 20))\n",
        "plt.scatter(np.array(embedded).T[0], np.array(embedded).T[1])\n",
        "for (x, y), name in zip(embedded, vocab):\n",
        "    plt.annotate(name, (x, y))\n",
        "plt.show()"
      ],
      "execution_count": null,
      "outputs": []
    },
    {
      "cell_type": "code",
      "metadata": {
        "id": "Eal0rtajNDhK"
      },
      "source": [
        "embedded.shape"
      ],
      "execution_count": null,
      "outputs": []
    },
    {
      "cell_type": "code",
      "metadata": {
        "id": "f-a--uFwNDUp"
      },
      "source": [
        "embedded.T.shape"
      ],
      "execution_count": null,
      "outputs": []
    },
    {
      "cell_type": "code",
      "metadata": {
        "id": "xjmdFij8NIox"
      },
      "source": [
        "embedded.T[1]"
      ],
      "execution_count": null,
      "outputs": []
    }
  ]
}